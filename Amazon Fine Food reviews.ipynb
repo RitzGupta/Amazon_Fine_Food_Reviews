{
 "cells": [
  {
   "cell_type": "markdown",
   "metadata": {
    "_cell_guid": "b1076dfc-b9ad-4769-8c92-a6c4dae69d19",
    "_uuid": "8f2839f25d086af736a60e9eeb907d3b93b6e0e5"
   },
   "source": [
    "# Amazon Fine Food Reviews Analysis\n",
    "\n",
    "\n",
    "Data Source: https://www.kaggle.com/snap/amazon-fine-food-reviews <br>\n",
    "\n",
    "EDA: https://nycdatascience.com/blog/student-works/amazon-fine-foods-visualization/\n",
    "\n",
    "\n",
    "The Amazon Fine Food Reviews dataset consists of reviews of fine foods from Amazon.<br>\n",
    "\n",
    "Number of reviews: 568,454<br>\n",
    "Number of users: 256,059<br>\n",
    "Number of products: 74,258<br>\n",
    "Timespan: Oct 1999 - Oct 2012<br>\n",
    "Number of Attributes/Columns in data: 10 \n",
    "\n",
    "Attribute Information:\n",
    "\n",
    "1. Id\n",
    "2. ProductId - unique identifier for the product\n",
    "3. UserId - unqiue identifier for the user\n",
    "4. ProfileName\n",
    "5. HelpfulnessNumerator - number of users who found the review helpful\n",
    "6. HelpfulnessDenominator - number of users who indicated whether they found the review helpful or not\n",
    "7. Score - rating between 1 and 5\n",
    "8. Time - timestamp for the review\n",
    "9. Summary - brief summary of the review\n",
    "10. Text - text of the review\n",
    "\n",
    "\n",
    "#### Objective:\n",
    "Given a review, determine whether the review is positive (rating of 4 or 5) or negative (rating of 1 or 2).\n",
    "\n",
    "<br>\n",
    "[Q] How to determine if a review is positive or negative?<br>\n",
    "<br> \n",
    "[Ans] We could use Score/Rating. A rating of 4 or 5 can be cosnidered as a positive review. A rating of 1 or 2 can be considered as negative one. A review of rating 3 is considered nuetral and such reviews are ignored from our analysis. This is an approximate and proxy way of determining the polarity (positivity/negativity) of a review.\n",
    "\n",
    "\n"
   ]
  },
  {
   "cell_type": "markdown",
   "metadata": {},
   "source": [
    "# [1]. Reading Data"
   ]
  },
  {
   "cell_type": "markdown",
   "metadata": {
    "_cell_guid": "79c7e3d0-c299-4dcb-8224-4455121ee9b0",
    "_uuid": "d629ff2d2480ee46fbb7e2d37f6b5fab8052498a"
   },
   "source": [
    "## [1.1] Loading the data\n",
    "\n",
    "The dataset is available in two forms\n",
    "1. .csv file\n",
    "2. SQLite Database\n",
    "\n",
    "In order to load the data, We have used the SQLITE dataset as it is easier to query the data and visualise the data efficiently.\n",
    "<br> \n",
    "\n",
    "Here as we only want to get the global sentiment of the recommendations (positive or negative), we will purposefully ignore all Scores equal to 3. If the score is above 3, then the recommendation wil be set to \"positive\". Otherwise, it will be set to \"negative\"."
   ]
  },
  {
   "cell_type": "code",
   "execution_count": 31,
   "metadata": {},
   "outputs": [],
   "source": [
    "import warnings\n",
    "warnings.filterwarnings(\"ignore\")\n",
    "\n",
    "import os\n",
    "import pickle\n",
    "import sqlite3\n",
    "import numpy as np\n",
    "import pandas as pd\n",
    "\n",
    "%matplotlib inline\n",
    "import matplotlib.pyplot as plt\n",
    "import seaborn as sns\n",
    "\n",
    "from sklearn.feature_extraction.text import TfidfTransformer\n",
    "from sklearn.feature_extraction.text import TfidfVectorizer\n",
    "from sklearn.feature_extraction.text import CountVectorizer\n",
    "\n",
    "from sklearn import metrics\n",
    "from sklearn.metrics import confusion_matrix\n",
    "from sklearn.metrics import roc_curve, auc\n",
    "\n",
    "import re # Tutorial about Python regular expressions: https://pymotw.com/2/re/\n",
    "import nltk\n",
    "import string\n",
    "from nltk.corpus import stopwords\n",
    "from nltk.stem import PorterStemmer\n",
    "from nltk.stem.porter import PorterStemmer\n",
    "from nltk.stem.wordnet import WordNetLemmatizer\n",
    "\n",
    "from gensim.models import Word2Vec\n",
    "from gensim.models import KeyedVectors\n",
    "\n",
    "from tqdm import tqdm"
   ]
  },
  {
   "cell_type": "code",
   "execution_count": 32,
   "metadata": {},
   "outputs": [
    {
     "name": "stdout",
     "output_type": "stream",
     "text": [
      "Number of data points in our data (100000, 10)\n"
     ]
    },
    {
     "data": {
      "text/html": [
       "<div>\n",
       "<style scoped>\n",
       "    .dataframe tbody tr th:only-of-type {\n",
       "        vertical-align: middle;\n",
       "    }\n",
       "\n",
       "    .dataframe tbody tr th {\n",
       "        vertical-align: top;\n",
       "    }\n",
       "\n",
       "    .dataframe thead th {\n",
       "        text-align: right;\n",
       "    }\n",
       "</style>\n",
       "<table border=\"1\" class=\"dataframe\">\n",
       "  <thead>\n",
       "    <tr style=\"text-align: right;\">\n",
       "      <th></th>\n",
       "      <th>Id</th>\n",
       "      <th>ProductId</th>\n",
       "      <th>UserId</th>\n",
       "      <th>ProfileName</th>\n",
       "      <th>HelpfulnessNumerator</th>\n",
       "      <th>HelpfulnessDenominator</th>\n",
       "      <th>Score</th>\n",
       "      <th>Time</th>\n",
       "      <th>Summary</th>\n",
       "      <th>Text</th>\n",
       "    </tr>\n",
       "  </thead>\n",
       "  <tbody>\n",
       "    <tr>\n",
       "      <th>0</th>\n",
       "      <td>1</td>\n",
       "      <td>B001E4KFG0</td>\n",
       "      <td>A3SGXH7AUHU8GW</td>\n",
       "      <td>delmartian</td>\n",
       "      <td>1</td>\n",
       "      <td>1</td>\n",
       "      <td>1</td>\n",
       "      <td>1303862400</td>\n",
       "      <td>Good Quality Dog Food</td>\n",
       "      <td>I have bought several of the Vitality canned d...</td>\n",
       "    </tr>\n",
       "    <tr>\n",
       "      <th>1</th>\n",
       "      <td>2</td>\n",
       "      <td>B00813GRG4</td>\n",
       "      <td>A1D87F6ZCVE5NK</td>\n",
       "      <td>dll pa</td>\n",
       "      <td>0</td>\n",
       "      <td>0</td>\n",
       "      <td>0</td>\n",
       "      <td>1346976000</td>\n",
       "      <td>Not as Advertised</td>\n",
       "      <td>Product arrived labeled as Jumbo Salted Peanut...</td>\n",
       "    </tr>\n",
       "    <tr>\n",
       "      <th>2</th>\n",
       "      <td>3</td>\n",
       "      <td>B000LQOCH0</td>\n",
       "      <td>ABXLMWJIXXAIN</td>\n",
       "      <td>Natalia Corres \"Natalia Corres\"</td>\n",
       "      <td>1</td>\n",
       "      <td>1</td>\n",
       "      <td>1</td>\n",
       "      <td>1219017600</td>\n",
       "      <td>\"Delight\" says it all</td>\n",
       "      <td>This is a confection that has been around a fe...</td>\n",
       "    </tr>\n",
       "  </tbody>\n",
       "</table>\n",
       "</div>"
      ],
      "text/plain": [
       "   Id   ProductId          UserId                      ProfileName  \\\n",
       "0   1  B001E4KFG0  A3SGXH7AUHU8GW                       delmartian   \n",
       "1   2  B00813GRG4  A1D87F6ZCVE5NK                           dll pa   \n",
       "2   3  B000LQOCH0   ABXLMWJIXXAIN  Natalia Corres \"Natalia Corres\"   \n",
       "\n",
       "   HelpfulnessNumerator  HelpfulnessDenominator  Score        Time  \\\n",
       "0                     1                       1      1  1303862400   \n",
       "1                     0                       0      0  1346976000   \n",
       "2                     1                       1      1  1219017600   \n",
       "\n",
       "                 Summary                                               Text  \n",
       "0  Good Quality Dog Food  I have bought several of the Vitality canned d...  \n",
       "1      Not as Advertised  Product arrived labeled as Jumbo Salted Peanut...  \n",
       "2  \"Delight\" says it all  This is a confection that has been around a fe...  "
      ]
     },
     "execution_count": 32,
     "metadata": {},
     "output_type": "execute_result"
    }
   ],
   "source": [
    "# using SQLite Table to read data\n",
    "con = sqlite3.connect('../Dataset/database.sqlite')\n",
    "\n",
    "# filtering only positive and negative reviews i.e. \n",
    "# not taking into consideration those reviews with Score=3\n",
    "# SELECT * FROM Reviews WHERE Score != 3 LIMIT 500000, will give top 500000 data points\n",
    "# you can change the number to any other number based on your computing power\n",
    "\n",
    "# filtered_data = pd.read_sql_query(\"\"\" SELECT * FROM Reviews WHERE Score != 3 LIMIT 500000\"\"\", con) \n",
    "\n",
    "\n",
    "filtered_data = pd.read_sql_query(\"\"\" SELECT * FROM Reviews WHERE Score != 3 LIMIT 100000\"\"\", con) \n",
    "\n",
    "# Give reviews with Score>3 a positive rating(1), and reviews with a score<3 a negative rating(0).\n",
    "def partition(x):\n",
    "    if x < 3:\n",
    "        return 0\n",
    "    return 1\n",
    "\n",
    "# changing reviews with score less than 3 to be positive and vice-versa\n",
    "actualScore = filtered_data['Score']\n",
    "positiveNegative = actualScore.map(partition)\n",
    "filtered_data['Score'] = positiveNegative\n",
    "print(\"Number of data points in our data\", filtered_data.shape)\n",
    "filtered_data.head(3)\n",
    "\n"
   ]
  },
  {
   "cell_type": "code",
   "execution_count": 33,
   "metadata": {},
   "outputs": [],
   "source": [
    "# Just look in the data and analysis\n",
    "display = pd.read_sql_query(\"\"\"\n",
    "SELECT UserId, ProductId, ProfileName, Time, Score, Text, COUNT(*)\n",
    "FROM Reviews GROUP BY UserId \n",
    "HAVING COUNT(*)>1\"\"\",con)"
   ]
  },
  {
   "cell_type": "code",
   "execution_count": 34,
   "metadata": {},
   "outputs": [
    {
     "name": "stdout",
     "output_type": "stream",
     "text": [
      "(80668, 7)\n"
     ]
    },
    {
     "data": {
      "text/html": [
       "<div>\n",
       "<style scoped>\n",
       "    .dataframe tbody tr th:only-of-type {\n",
       "        vertical-align: middle;\n",
       "    }\n",
       "\n",
       "    .dataframe tbody tr th {\n",
       "        vertical-align: top;\n",
       "    }\n",
       "\n",
       "    .dataframe thead th {\n",
       "        text-align: right;\n",
       "    }\n",
       "</style>\n",
       "<table border=\"1\" class=\"dataframe\">\n",
       "  <thead>\n",
       "    <tr style=\"text-align: right;\">\n",
       "      <th></th>\n",
       "      <th>UserId</th>\n",
       "      <th>ProductId</th>\n",
       "      <th>ProfileName</th>\n",
       "      <th>Time</th>\n",
       "      <th>Score</th>\n",
       "      <th>Text</th>\n",
       "      <th>COUNT(*)</th>\n",
       "    </tr>\n",
       "  </thead>\n",
       "  <tbody>\n",
       "    <tr>\n",
       "      <th>0</th>\n",
       "      <td>#oc-R115TNMSPFT9I7</td>\n",
       "      <td>B005ZBZLT4</td>\n",
       "      <td>Breyton</td>\n",
       "      <td>1331510400</td>\n",
       "      <td>2</td>\n",
       "      <td>Overall its just OK when considering the price...</td>\n",
       "      <td>2</td>\n",
       "    </tr>\n",
       "    <tr>\n",
       "      <th>1</th>\n",
       "      <td>#oc-R11D9D7SHXIJB9</td>\n",
       "      <td>B005HG9ESG</td>\n",
       "      <td>Louis E. Emory \"hoppy\"</td>\n",
       "      <td>1342396800</td>\n",
       "      <td>5</td>\n",
       "      <td>My wife has recurring extreme muscle spasms, u...</td>\n",
       "      <td>3</td>\n",
       "    </tr>\n",
       "    <tr>\n",
       "      <th>2</th>\n",
       "      <td>#oc-R11DNU2NBKQ23Z</td>\n",
       "      <td>B005ZBZLT4</td>\n",
       "      <td>Kim Cieszykowski</td>\n",
       "      <td>1348531200</td>\n",
       "      <td>1</td>\n",
       "      <td>This coffee is horrible and unfortunately not ...</td>\n",
       "      <td>2</td>\n",
       "    </tr>\n",
       "    <tr>\n",
       "      <th>3</th>\n",
       "      <td>#oc-R11O5J5ZVQE25C</td>\n",
       "      <td>B005HG9ESG</td>\n",
       "      <td>Penguin Chick</td>\n",
       "      <td>1346889600</td>\n",
       "      <td>5</td>\n",
       "      <td>This will be the bottle that you grab from the...</td>\n",
       "      <td>3</td>\n",
       "    </tr>\n",
       "    <tr>\n",
       "      <th>4</th>\n",
       "      <td>#oc-R12KPBODL2B5ZD</td>\n",
       "      <td>B007OSBEV0</td>\n",
       "      <td>Christopher P. Presta</td>\n",
       "      <td>1348617600</td>\n",
       "      <td>1</td>\n",
       "      <td>I didnt like this coffee. Instead of telling y...</td>\n",
       "      <td>2</td>\n",
       "    </tr>\n",
       "  </tbody>\n",
       "</table>\n",
       "</div>"
      ],
      "text/plain": [
       "               UserId   ProductId             ProfileName        Time  Score  \\\n",
       "0  #oc-R115TNMSPFT9I7  B005ZBZLT4                 Breyton  1331510400      2   \n",
       "1  #oc-R11D9D7SHXIJB9  B005HG9ESG  Louis E. Emory \"hoppy\"  1342396800      5   \n",
       "2  #oc-R11DNU2NBKQ23Z  B005ZBZLT4        Kim Cieszykowski  1348531200      1   \n",
       "3  #oc-R11O5J5ZVQE25C  B005HG9ESG           Penguin Chick  1346889600      5   \n",
       "4  #oc-R12KPBODL2B5ZD  B007OSBEV0   Christopher P. Presta  1348617600      1   \n",
       "\n",
       "                                                Text  COUNT(*)  \n",
       "0  Overall its just OK when considering the price...         2  \n",
       "1  My wife has recurring extreme muscle spasms, u...         3  \n",
       "2  This coffee is horrible and unfortunately not ...         2  \n",
       "3  This will be the bottle that you grab from the...         3  \n",
       "4  I didnt like this coffee. Instead of telling y...         2  "
      ]
     },
     "execution_count": 34,
     "metadata": {},
     "output_type": "execute_result"
    }
   ],
   "source": [
    "print(display.shape)\n",
    "display.head()"
   ]
  },
  {
   "cell_type": "code",
   "execution_count": 35,
   "metadata": {},
   "outputs": [
    {
     "data": {
      "text/plain": [
       "393063"
      ]
     },
     "execution_count": 35,
     "metadata": {},
     "output_type": "execute_result"
    }
   ],
   "source": [
    "display['COUNT(*)'].sum()"
   ]
  },
  {
   "cell_type": "markdown",
   "metadata": {},
   "source": [
    "#  [2] Exploratory Data Analysis\n"
   ]
  },
  {
   "cell_type": "markdown",
   "metadata": {},
   "source": [
    "## [2.1] Data Cleaning: Deduplication\n",
    "\n",
    "It is observed (as shown in the table below) that the reviews data had many duplicate entries. Hence it was necessary to remove duplicates in order to get unbiased results for the analysis of the data.  Following is an example:"
   ]
  },
  {
   "cell_type": "code",
   "execution_count": 36,
   "metadata": {},
   "outputs": [
    {
     "data": {
      "text/html": [
       "<div>\n",
       "<style scoped>\n",
       "    .dataframe tbody tr th:only-of-type {\n",
       "        vertical-align: middle;\n",
       "    }\n",
       "\n",
       "    .dataframe tbody tr th {\n",
       "        vertical-align: top;\n",
       "    }\n",
       "\n",
       "    .dataframe thead th {\n",
       "        text-align: right;\n",
       "    }\n",
       "</style>\n",
       "<table border=\"1\" class=\"dataframe\">\n",
       "  <thead>\n",
       "    <tr style=\"text-align: right;\">\n",
       "      <th></th>\n",
       "      <th>Id</th>\n",
       "      <th>ProductId</th>\n",
       "      <th>UserId</th>\n",
       "      <th>ProfileName</th>\n",
       "      <th>HelpfulnessNumerator</th>\n",
       "      <th>HelpfulnessDenominator</th>\n",
       "      <th>Score</th>\n",
       "      <th>Time</th>\n",
       "      <th>Summary</th>\n",
       "      <th>Text</th>\n",
       "    </tr>\n",
       "  </thead>\n",
       "  <tbody>\n",
       "    <tr>\n",
       "      <th>0</th>\n",
       "      <td>78445</td>\n",
       "      <td>B000HDL1RQ</td>\n",
       "      <td>AR5J8UI46CURR</td>\n",
       "      <td>Geetha Krishnan</td>\n",
       "      <td>2</td>\n",
       "      <td>2</td>\n",
       "      <td>5</td>\n",
       "      <td>1199577600</td>\n",
       "      <td>LOACKER QUADRATINI VANILLA WAFERS</td>\n",
       "      <td>DELICIOUS WAFERS. I FIND THAT EUROPEAN WAFERS ...</td>\n",
       "    </tr>\n",
       "    <tr>\n",
       "      <th>1</th>\n",
       "      <td>138317</td>\n",
       "      <td>B000HDOPYC</td>\n",
       "      <td>AR5J8UI46CURR</td>\n",
       "      <td>Geetha Krishnan</td>\n",
       "      <td>2</td>\n",
       "      <td>2</td>\n",
       "      <td>5</td>\n",
       "      <td>1199577600</td>\n",
       "      <td>LOACKER QUADRATINI VANILLA WAFERS</td>\n",
       "      <td>DELICIOUS WAFERS. I FIND THAT EUROPEAN WAFERS ...</td>\n",
       "    </tr>\n",
       "    <tr>\n",
       "      <th>2</th>\n",
       "      <td>138277</td>\n",
       "      <td>B000HDOPYM</td>\n",
       "      <td>AR5J8UI46CURR</td>\n",
       "      <td>Geetha Krishnan</td>\n",
       "      <td>2</td>\n",
       "      <td>2</td>\n",
       "      <td>5</td>\n",
       "      <td>1199577600</td>\n",
       "      <td>LOACKER QUADRATINI VANILLA WAFERS</td>\n",
       "      <td>DELICIOUS WAFERS. I FIND THAT EUROPEAN WAFERS ...</td>\n",
       "    </tr>\n",
       "    <tr>\n",
       "      <th>3</th>\n",
       "      <td>73791</td>\n",
       "      <td>B000HDOPZG</td>\n",
       "      <td>AR5J8UI46CURR</td>\n",
       "      <td>Geetha Krishnan</td>\n",
       "      <td>2</td>\n",
       "      <td>2</td>\n",
       "      <td>5</td>\n",
       "      <td>1199577600</td>\n",
       "      <td>LOACKER QUADRATINI VANILLA WAFERS</td>\n",
       "      <td>DELICIOUS WAFERS. I FIND THAT EUROPEAN WAFERS ...</td>\n",
       "    </tr>\n",
       "    <tr>\n",
       "      <th>4</th>\n",
       "      <td>155049</td>\n",
       "      <td>B000PAQ75C</td>\n",
       "      <td>AR5J8UI46CURR</td>\n",
       "      <td>Geetha Krishnan</td>\n",
       "      <td>2</td>\n",
       "      <td>2</td>\n",
       "      <td>5</td>\n",
       "      <td>1199577600</td>\n",
       "      <td>LOACKER QUADRATINI VANILLA WAFERS</td>\n",
       "      <td>DELICIOUS WAFERS. I FIND THAT EUROPEAN WAFERS ...</td>\n",
       "    </tr>\n",
       "  </tbody>\n",
       "</table>\n",
       "</div>"
      ],
      "text/plain": [
       "       Id   ProductId         UserId      ProfileName  HelpfulnessNumerator  \\\n",
       "0   78445  B000HDL1RQ  AR5J8UI46CURR  Geetha Krishnan                     2   \n",
       "1  138317  B000HDOPYC  AR5J8UI46CURR  Geetha Krishnan                     2   \n",
       "2  138277  B000HDOPYM  AR5J8UI46CURR  Geetha Krishnan                     2   \n",
       "3   73791  B000HDOPZG  AR5J8UI46CURR  Geetha Krishnan                     2   \n",
       "4  155049  B000PAQ75C  AR5J8UI46CURR  Geetha Krishnan                     2   \n",
       "\n",
       "   HelpfulnessDenominator  Score        Time  \\\n",
       "0                       2      5  1199577600   \n",
       "1                       2      5  1199577600   \n",
       "2                       2      5  1199577600   \n",
       "3                       2      5  1199577600   \n",
       "4                       2      5  1199577600   \n",
       "\n",
       "                             Summary  \\\n",
       "0  LOACKER QUADRATINI VANILLA WAFERS   \n",
       "1  LOACKER QUADRATINI VANILLA WAFERS   \n",
       "2  LOACKER QUADRATINI VANILLA WAFERS   \n",
       "3  LOACKER QUADRATINI VANILLA WAFERS   \n",
       "4  LOACKER QUADRATINI VANILLA WAFERS   \n",
       "\n",
       "                                                Text  \n",
       "0  DELICIOUS WAFERS. I FIND THAT EUROPEAN WAFERS ...  \n",
       "1  DELICIOUS WAFERS. I FIND THAT EUROPEAN WAFERS ...  \n",
       "2  DELICIOUS WAFERS. I FIND THAT EUROPEAN WAFERS ...  \n",
       "3  DELICIOUS WAFERS. I FIND THAT EUROPEAN WAFERS ...  \n",
       "4  DELICIOUS WAFERS. I FIND THAT EUROPEAN WAFERS ...  "
      ]
     },
     "execution_count": 36,
     "metadata": {},
     "output_type": "execute_result"
    }
   ],
   "source": [
    "display = pd.read_sql_query(\"\"\"\n",
    "SELECT * FROM Reviews\n",
    "WHERE Score != 3 AND UserId = \"AR5J8UI46CURR\"\n",
    "ORDER BY ProductID\n",
    "\"\"\",con)\n",
    "display.head()"
   ]
  },
  {
   "cell_type": "markdown",
   "metadata": {},
   "source": [
    "As it can be seen above that same user has multiple reviews with same values for HelpfulnessNumerator, HelpfulnessDenominator, Score, Time, Summary and Text and on doing analysis it was found that <br>\n",
    "<br> \n",
    "ProductId=B000HDOPZG was Loacker Quadratini Vanilla Wafer Cookies, 8.82-Ounce Packages (Pack of 8)<br>\n",
    "<br> \n",
    "ProductId=B000HDL1RQ was Loacker Quadratini Lemon Wafer Cookies, 8.82-Ounce Packages (Pack of 8) and so on<br>\n",
    "\n",
    "It was inferred after analysis that reviews with same parameters other than ProductId belonged to the same product just having different flavour or quantity. Hence in order to reduce redundancy it was decided to eliminate the rows having same parameters.<br>\n",
    "\n",
    "The method used for the same was that we first sort the data according to ProductId and then just keep the first similar product review and delelte the others. for eg. in the above just the review for ProductId=B000HDL1RQ remains. This method ensures that there is only one representative for each product and deduplication without sorting would lead to possibility of different representatives still existing for the same product."
   ]
  },
  {
   "cell_type": "code",
   "execution_count": 37,
   "metadata": {},
   "outputs": [],
   "source": [
    "#Sorting data according to ProductId in ascending order\n",
    "sorted_data=filtered_data.sort_values('ProductId', axis=0, ascending=True, inplace=False, kind='quicksort', na_position='last')"
   ]
  },
  {
   "cell_type": "code",
   "execution_count": 38,
   "metadata": {},
   "outputs": [
    {
     "data": {
      "text/plain": [
       "(87775, 10)"
      ]
     },
     "execution_count": 38,
     "metadata": {},
     "output_type": "execute_result"
    }
   ],
   "source": [
    "# Deduplication of entries\n",
    "final = sorted_data.drop_duplicates(subset = {\"UserId\",\"ProfileName\",\"Time\",\"Text\"},keep = 'first',inplace = False)\n",
    "final.shape"
   ]
  },
  {
   "cell_type": "code",
   "execution_count": 39,
   "metadata": {},
   "outputs": [
    {
     "data": {
      "text/plain": [
       "87.775"
      ]
     },
     "execution_count": 39,
     "metadata": {},
     "output_type": "execute_result"
    }
   ],
   "source": [
    "# Checking to see how much % of data still remains\n",
    "(final['Id'].size*1.0)/(filtered_data['Id'].size*1.0)*100"
   ]
  },
  {
   "cell_type": "markdown",
   "metadata": {},
   "source": [
    "<b>Observation:-</b> It was also seen that in two rows given below the value of HelpfulnessNumerator is greater than HelpfulnessDenominator which is not practically possible hence these two rows too are removed from calcualtions"
   ]
  },
  {
   "cell_type": "code",
   "execution_count": 40,
   "metadata": {},
   "outputs": [
    {
     "data": {
      "text/html": [
       "<div>\n",
       "<style scoped>\n",
       "    .dataframe tbody tr th:only-of-type {\n",
       "        vertical-align: middle;\n",
       "    }\n",
       "\n",
       "    .dataframe tbody tr th {\n",
       "        vertical-align: top;\n",
       "    }\n",
       "\n",
       "    .dataframe thead th {\n",
       "        text-align: right;\n",
       "    }\n",
       "</style>\n",
       "<table border=\"1\" class=\"dataframe\">\n",
       "  <thead>\n",
       "    <tr style=\"text-align: right;\">\n",
       "      <th></th>\n",
       "      <th>Id</th>\n",
       "      <th>ProductId</th>\n",
       "      <th>UserId</th>\n",
       "      <th>ProfileName</th>\n",
       "      <th>HelpfulnessNumerator</th>\n",
       "      <th>HelpfulnessDenominator</th>\n",
       "      <th>Score</th>\n",
       "      <th>Time</th>\n",
       "      <th>Summary</th>\n",
       "      <th>Text</th>\n",
       "    </tr>\n",
       "  </thead>\n",
       "  <tbody>\n",
       "    <tr>\n",
       "      <th>0</th>\n",
       "      <td>64422</td>\n",
       "      <td>B000MIDROQ</td>\n",
       "      <td>A161DK06JJMCYF</td>\n",
       "      <td>J. E. Stephens \"Jeanne\"</td>\n",
       "      <td>3</td>\n",
       "      <td>1</td>\n",
       "      <td>5</td>\n",
       "      <td>1224892800</td>\n",
       "      <td>Bought This for My Son at College</td>\n",
       "      <td>My son loves spaghetti so I didn't hesitate or...</td>\n",
       "    </tr>\n",
       "    <tr>\n",
       "      <th>1</th>\n",
       "      <td>44737</td>\n",
       "      <td>B001EQ55RW</td>\n",
       "      <td>A2V0I904FH7ABY</td>\n",
       "      <td>Ram</td>\n",
       "      <td>3</td>\n",
       "      <td>2</td>\n",
       "      <td>4</td>\n",
       "      <td>1212883200</td>\n",
       "      <td>Pure cocoa taste with crunchy almonds inside</td>\n",
       "      <td>It was almost a 'love at first bite' - the per...</td>\n",
       "    </tr>\n",
       "  </tbody>\n",
       "</table>\n",
       "</div>"
      ],
      "text/plain": [
       "      Id   ProductId          UserId              ProfileName  \\\n",
       "0  64422  B000MIDROQ  A161DK06JJMCYF  J. E. Stephens \"Jeanne\"   \n",
       "1  44737  B001EQ55RW  A2V0I904FH7ABY                      Ram   \n",
       "\n",
       "   HelpfulnessNumerator  HelpfulnessDenominator  Score        Time  \\\n",
       "0                     3                       1      5  1224892800   \n",
       "1                     3                       2      4  1212883200   \n",
       "\n",
       "                                        Summary  \\\n",
       "0             Bought This for My Son at College   \n",
       "1  Pure cocoa taste with crunchy almonds inside   \n",
       "\n",
       "                                                Text  \n",
       "0  My son loves spaghetti so I didn't hesitate or...  \n",
       "1  It was almost a 'love at first bite' - the per...  "
      ]
     },
     "execution_count": 40,
     "metadata": {},
     "output_type": "execute_result"
    }
   ],
   "source": [
    "display = pd.read_sql_query(\"\"\"\n",
    "SELECT * FROM Reviews\n",
    "WHERE Score !=3 AND Id = 44737 OR Id = 64422\n",
    "ORDER BY ProductID\n",
    "\"\"\", con)\n",
    "\n",
    "display.head()"
   ]
  },
  {
   "cell_type": "code",
   "execution_count": 41,
   "metadata": {},
   "outputs": [],
   "source": [
    "final = final[final.HelpfulnessNumerator<= final.HelpfulnessDenominator]"
   ]
  },
  {
   "cell_type": "code",
   "execution_count": 42,
   "metadata": {},
   "outputs": [
    {
     "name": "stdout",
     "output_type": "stream",
     "text": [
      "(87773, 10)\n"
     ]
    },
    {
     "data": {
      "text/plain": [
       "1    73592\n",
       "0    14181\n",
       "Name: Score, dtype: int64"
      ]
     },
     "execution_count": 42,
     "metadata": {},
     "output_type": "execute_result"
    }
   ],
   "source": [
    "#Before starting the next phase of preprocessing lets see the number of entries left\n",
    "print(final.shape)\n",
    "\n",
    "#How many positive and negative reviews are present in our dataset?\n",
    "final['Score'].value_counts()"
   ]
  },
  {
   "cell_type": "markdown",
   "metadata": {},
   "source": [
    "#  [3] Preprocessing"
   ]
  },
  {
   "cell_type": "markdown",
   "metadata": {},
   "source": [
    "## [3.1].  Preprocessing Review Text\n",
    "\n",
    "Now that we have finished deduplication our data requires some preprocessing before we go on further with analysis and making the prediction model.\n",
    "\n",
    "Hence in the Preprocessing phase we do the following in the order below:-\n",
    "\n",
    "1. Begin by removing the html tags\n",
    "2. Remove any punctuations or limited set of special characters like , or . or # etc.\n",
    "3. Check if the word is made up of english letters and is not alpha-numeric\n",
    "4. Check to see if the length of the word is greater than 2 (as it was researched that there is no adjective in 2-letters)\n",
    "5. Convert the word to lowercase\n",
    "6. Remove Stopwords\n",
    "7. Finally Snowball Stemming the word (it was obsereved to be better than Porter Stemming)<br>\n",
    "\n",
    "After which we collect the words used to describe positive and negative reviews"
   ]
  },
  {
   "cell_type": "code",
   "execution_count": 43,
   "metadata": {},
   "outputs": [
    {
     "name": "stdout",
     "output_type": "stream",
     "text": [
      "My dogs loves this chicken but its a product from China, so we wont be buying it anymore.  Its very hard to find any chicken products made in the USA but they are out there, but this one isnt.  Its too bad too because its a good product but I wont take any chances till they know what is going on with the china imports.\n",
      "==================================================\n",
      "The Candy Blocks were a nice visual for the Lego Birthday party but the candy has little taste to it.  Very little of the 2 lbs that I bought were eaten and I threw the rest away.  I would not buy the candy again.\n",
      "==================================================\n",
      "was way to hot for my blood, took a bite and did a jig  lol\n",
      "==================================================\n",
      "My dog LOVES these treats. They tend to have a very strong fish oil smell. So if you are afraid of the fishy smell, don't get it. But I think my dog likes it because of the smell. These treats are really small in size. They are great for training. You can give your dog several of these without worrying about him over eating. Amazon's price was much more reasonable than any other retailer. You can buy a 1 pound bag on Amazon for almost the same price as a 6 ounce bag at other retailers. It's definitely worth it to buy a big bag if your dog eats them a lot.\n",
      "==================================================\n"
     ]
    }
   ],
   "source": [
    "# printing Some random reviews\n",
    "sent_0 = final['Text'].values[0]\n",
    "print(sent_0)\n",
    "print(\"=\"*50)\n",
    "\n",
    "sent_1000 = final['Text'].values[1000]\n",
    "print(sent_1000)\n",
    "print(\"=\"*50)\n",
    "\n",
    "sent_1500 = final['Text'].values[1500]\n",
    "print(sent_1500)\n",
    "print(\"=\"*50)\n",
    "\n",
    "sent_4900 = final['Text'].values[4900]\n",
    "print(sent_4900)\n",
    "print(\"=\"*50)\n"
   ]
  },
  {
   "cell_type": "markdown",
   "metadata": {},
   "source": []
  },
  {
   "cell_type": "code",
   "execution_count": 44,
   "metadata": {},
   "outputs": [
    {
     "name": "stdout",
     "output_type": "stream",
     "text": [
      "My dogs loves this chicken but its a product from China, so we wont be buying it anymore.  Its very hard to find any chicken products made in the USA but they are out there, but this one isnt.  Its too bad too because its a good product but I wont take any chances till they know what is going on with the china imports.\n"
     ]
    }
   ],
   "source": [
    "# Remove urls from text python: https://stackoverflow.com/a/40823105/4084039\n",
    "sent_0 = re.sub(r\"http\\S+\",\"\",sent_0)\n",
    "sent_1000 = re.sub(r\"http\\S+\",\"\",sent_1000)\n",
    "sent_1500 = re.sub(r\"http\\S+\",\"\",sent_1500)\n",
    "sent_4900 = re.sub(r\"http\\S+\",\"\",sent_4900)\n",
    "print(sent_0)"
   ]
  },
  {
   "cell_type": "code",
   "execution_count": 45,
   "metadata": {},
   "outputs": [
    {
     "name": "stdout",
     "output_type": "stream",
     "text": [
      "My dogs loves this chicken but its a product from China, so we wont be buying it anymore.  Its very hard to find any chicken products made in the USA but they are out there, but this one isnt.  Its too bad too because its a good product but I wont take any chances till they know what is going on with the china imports.\n",
      "==================================================\n",
      "The Candy Blocks were a nice visual for the Lego Birthday party but the candy has little taste to it.  Very little of the 2 lbs that I bought were eaten and I threw the rest away.  I would not buy the candy again.\n",
      "==================================================\n",
      "was way to hot for my blood, took a bite and did a jig  lol\n",
      "==================================================\n",
      "My dog LOVES these treats. They tend to have a very strong fish oil smell. So if you are afraid of the fishy smell, don't get it. But I think my dog likes it because of the smell. These treats are really small in size. They are great for training. You can give your dog several of these without worrying about him over eating. Amazon's price was much more reasonable than any other retailer. You can buy a 1 pound bag on Amazon for almost the same price as a 6 ounce bag at other retailers. It's definitely worth it to buy a big bag if your dog eats them a lot.\n",
      "==================================================\n"
     ]
    }
   ],
   "source": [
    "# https://stackoverflow.com/questions/16206380/python-beautifulsoup-how-to-remove-all-tags-from-an-element\n",
    "from bs4 import BeautifulSoup\n",
    "\n",
    "soup = BeautifulSoup(sent_0,'lxml')\n",
    "text = soup.get_text()\n",
    "print(text)\n",
    "print(\"=\"*50)\n",
    "\n",
    "soup = BeautifulSoup(sent_1000,'lxml')\n",
    "text = soup.get_text()\n",
    "print(text)\n",
    "print(\"=\"*50)\n",
    "\n",
    "soup = BeautifulSoup(sent_1500,'lxml')\n",
    "text = soup.get_text()\n",
    "print(text)\n",
    "print(\"=\"*50)\n",
    "\n",
    "soup = BeautifulSoup(sent_4900,'lxml')\n",
    "text = soup.get_text()\n",
    "print(text)\n",
    "print(\"=\"*50)"
   ]
  },
  {
   "cell_type": "code",
   "execution_count": 46,
   "metadata": {},
   "outputs": [],
   "source": [
    "# https://stackoverflow.com/a/47091490/4084039\n",
    "import re\n",
    "\n",
    "def decontracted(phrase):\n",
    "    # specific\n",
    "    phrase = re.sub(r\"won't\", \"will not\", phrase)\n",
    "    phrase = re.sub(r\"can\\'t\", \"can not\", phrase)\n",
    "\n",
    "    # general\n",
    "    phrase = re.sub(r\"n\\'t\", \" not\", phrase)\n",
    "    phrase = re.sub(r\"\\'re\", \" are\", phrase)\n",
    "    phrase = re.sub(r\"\\'s\", \" is\", phrase)\n",
    "    phrase = re.sub(r\"\\'d\", \" would\", phrase)\n",
    "    phrase = re.sub(r\"\\'ll\", \" will\", phrase)\n",
    "    phrase = re.sub(r\"\\'t\", \" not\", phrase)\n",
    "    phrase = re.sub(r\"\\'ve\", \" have\", phrase)\n",
    "    phrase = re.sub(r\"\\'m\", \" am\", phrase)\n",
    "    return phrase"
   ]
  },
  {
   "cell_type": "code",
   "execution_count": 47,
   "metadata": {},
   "outputs": [
    {
     "name": "stdout",
     "output_type": "stream",
     "text": [
      "was way to hot for my blood, took a bite and did a jig  lol\n"
     ]
    }
   ],
   "source": [
    "sent_1500 = decontracted(sent_1500)\n",
    "print(sent_1500)"
   ]
  },
  {
   "cell_type": "code",
   "execution_count": 48,
   "metadata": {},
   "outputs": [
    {
     "name": "stdout",
     "output_type": "stream",
     "text": [
      "My dogs loves this chicken but its a product from China, so we wont be buying it anymore.  Its very hard to find any chicken products made in the USA but they are out there, but this one isnt.  Its too bad too because its a good product but I wont take any chances till they know what is going on with the china imports.\n"
     ]
    }
   ],
   "source": [
    "#remove words with numbers python: https://stackoverflow.com/a/18082370/4084039\n",
    "sent_0 = re.sub(\"\\S*\\d\\S*\",\"\",sent_0).strip()\n",
    "print(sent_0)"
   ]
  },
  {
   "cell_type": "code",
   "execution_count": 49,
   "metadata": {},
   "outputs": [
    {
     "name": "stdout",
     "output_type": "stream",
     "text": [
      "was way to hot for my blood took a bite and did a jig lol\n"
     ]
    }
   ],
   "source": [
    "#remove spacial character: https://stackoverflow.com/a/5843547/4084039\n",
    "sent_1500 = re.sub('[^A-Za-z0-9]+',' ',sent_1500)\n",
    "print(sent_1500)"
   ]
  },
  {
   "cell_type": "code",
   "execution_count": 50,
   "metadata": {},
   "outputs": [],
   "source": [
    "# https://gist.github.com/sebleier/554280\n",
    "# we are removing the words from the stop words list: 'no', 'nor', 'not'\n",
    "# <br /><br /> ==> after the above steps, we are getting \"br br\"\n",
    "# we are including them into stop words list\n",
    "# instead of <br /> if we have <br/> these tags would have revmoved in the 1st step\n",
    "\n",
    "stopwords= set(['br', 'the', 'i', 'me', 'my', 'myself', 'we', 'our', 'ours', 'ourselves', 'you', \"you're\", \"you've\",\\\n",
    "            \"you'll\", \"you'd\", 'your', 'yours', 'yourself', 'yourselves', 'he', 'him', 'his', 'himself', \\\n",
    "            'she', \"she's\", 'her', 'hers', 'herself', 'it', \"it's\", 'its', 'itself', 'they', 'them', 'their',\\\n",
    "            'theirs', 'themselves', 'what', 'which', 'who', 'whom', 'this', 'that', \"that'll\", 'these', 'those', \\\n",
    "            'am', 'is', 'are', 'was', 'were', 'be', 'been', 'being', 'have', 'has', 'had', 'having', 'do', 'does', \\\n",
    "            'did', 'doing', 'a', 'an', 'the', 'and', 'but', 'if', 'or', 'because', 'as', 'until', 'while', 'of', \\\n",
    "            'at', 'by', 'for', 'with', 'about', 'against', 'between', 'into', 'through', 'during', 'before', 'after',\\\n",
    "            'above', 'below', 'to', 'from', 'up', 'down', 'in', 'out', 'on', 'off', 'over', 'under', 'again', 'further',\\\n",
    "            'then', 'once', 'here', 'there', 'when', 'where', 'why', 'how', 'all', 'any', 'both', 'each', 'few', 'more',\\\n",
    "            'most', 'other', 'some', 'such', 'only', 'own', 'same', 'so', 'than', 'too', 'very', \\\n",
    "            's', 't', 'can', 'will', 'just', 'don', \"don't\", 'should', \"should've\", 'now', 'd', 'll', 'm', 'o', 're', \\\n",
    "            've', 'y', 'ain', 'aren', \"aren't\", 'couldn', \"couldn't\", 'didn', \"didn't\", 'doesn', \"doesn't\", 'hadn',\\\n",
    "            \"hadn't\", 'hasn', \"hasn't\", 'haven', \"haven't\", 'isn', \"isn't\", 'ma', 'mightn', \"mightn't\", 'mustn',\\\n",
    "            \"mustn't\", 'needn', \"needn't\", 'shan', \"shan't\", 'shouldn', \"shouldn't\", 'wasn', \"wasn't\", 'weren', \"weren't\", \\\n",
    "            'won', \"won't\", 'wouldn', \"wouldn't\"])"
   ]
  },
  {
   "cell_type": "code",
   "execution_count": 51,
   "metadata": {},
   "outputs": [
    {
     "name": "stderr",
     "output_type": "stream",
     "text": [
      "100%|██████████| 87773/87773 [00:35<00:00, 2456.90it/s]\n"
     ]
    }
   ],
   "source": [
    "# Combining all the above stundents\n",
    "from tqdm import tqdm # tqdm is for printing the status bar\n",
    "preprocessed_reviews = []\n",
    "\n",
    "for sentance in tqdm(final['Text'].values):\n",
    "    sentance = re.sub(r\"http\\S+\", \"\", sentance)\n",
    "    sentance = BeautifulSoup(sentance, 'lxml').get_text()\n",
    "    sentance = decontracted(sentance)\n",
    "    sentance = re.sub(\"\\S*\\d\\S*\", \"\", sentance).strip()\n",
    "    sentance = re.sub('[^A-Za-z]+', ' ', sentance)\n",
    "    # https://gist.github.com/sebleier/554280\n",
    "    sentance = ' '.join(e.lower() for e in sentance.split() if e.lower() not in stopwords)\n",
    "    preprocessed_reviews.append(sentance.strip())"
   ]
  },
  {
   "cell_type": "code",
   "execution_count": 52,
   "metadata": {},
   "outputs": [
    {
     "data": {
      "text/plain": [
       "'way hot blood took bite jig lol'"
      ]
     },
     "execution_count": 52,
     "metadata": {},
     "output_type": "execute_result"
    }
   ],
   "source": [
    "preprocessed_reviews[1500]"
   ]
  },
  {
   "cell_type": "markdown",
   "metadata": {},
   "source": [
    "<h2>[3.2] Preprocessing Review Summary</font></h2>"
   ]
  },
  {
   "cell_type": "code",
   "execution_count": 53,
   "metadata": {},
   "outputs": [
    {
     "name": "stderr",
     "output_type": "stream",
     "text": [
      "100%|██████████| 87773/87773 [00:20<00:00, 4368.11it/s]\n"
     ]
    }
   ],
   "source": [
    "# Combining all the above stundents\n",
    "from tqdm import tqdm # tqdm is for printing the status bar\n",
    "preprocessed_summary = []\n",
    "\n",
    "for sentance in tqdm(final['Summary'].values):\n",
    "    sentance = re.sub(r\"http\\S+\", \"\", sentance)\n",
    "    sentance = BeautifulSoup(sentance, 'lxml').get_text()\n",
    "    sentance = decontracted(sentance)\n",
    "    sentance = re.sub(\"\\S*\\d\\S*\", \"\", sentance).strip()\n",
    "    sentance = re.sub('[^A-Za-z]+', ' ', sentance)\n",
    "    # https://gist.github.com/sebleier/554280\n",
    "    sentance = ' '.join(e.lower() for e in sentance.split() if e.lower() not in stopwords)\n",
    "    preprocessed_summary.append(sentance.strip())"
   ]
  },
  {
   "cell_type": "code",
   "execution_count": 54,
   "metadata": {},
   "outputs": [
    {
     "data": {
      "text/plain": [
       "'hot stuff'"
      ]
     },
     "execution_count": 54,
     "metadata": {},
     "output_type": "execute_result"
    }
   ],
   "source": [
    "preprocessed_summary[1500]"
   ]
  },
  {
   "cell_type": "markdown",
   "metadata": {},
   "source": [
    "# [4] Featurization"
   ]
  },
  {
   "cell_type": "markdown",
   "metadata": {},
   "source": [
    "## [4.1] BAG OF WORDS"
   ]
  },
  {
   "cell_type": "code",
   "execution_count": 25,
   "metadata": {},
   "outputs": [
    {
     "name": "stdout",
     "output_type": "stream",
     "text": [
      "some features name  ['aa', 'aaa', 'aaaa', 'aaaaa', 'aaaaaaaaaaaa', 'aaaaaaaaaaaaaaa', 'aaaaaaahhhhhh', 'aaaaaaarrrrrggghhh', 'aaaaaawwwwwwwwww', 'aaaaah']\n",
      "==================================================\n",
      "The type of count vectorizer  <class 'scipy.sparse.csr.csr_matrix'>\n",
      "the shape of out text BOW vectorizer  (87773, 54904)\n",
      "the number of unique words  54904\n"
     ]
    }
   ],
   "source": [
    "#BoW \n",
    "count_vect = CountVectorizer()\n",
    "count_vect.fit(preprocessed_reviews)\n",
    "print(\"some features name \", count_vect.get_feature_names()[:10])\n",
    "print(\"=\"*50)\n",
    "\n",
    "final_counts = count_vect.transform(preprocessed_reviews)\n",
    "print(\"The type of count vectorizer \",type(final_counts))\n",
    "print(\"the shape of out text BOW vectorizer \",final_counts.get_shape())\n",
    "print(\"the number of unique words \", final_counts.get_shape()[1])"
   ]
  },
  {
   "cell_type": "markdown",
   "metadata": {},
   "source": [
    "## [4.2] Bi-Grams and n-Grams."
   ]
  },
  {
   "cell_type": "code",
   "execution_count": 26,
   "metadata": {},
   "outputs": [
    {
     "name": "stdout",
     "output_type": "stream",
     "text": [
      "the type of count vectorizer  <class 'scipy.sparse.csr.csr_matrix'>\n",
      "the shape of out text BOW vectorizer  (87773, 5000)\n",
      "the number of unique words including both unigrams and bigrams  5000\n"
     ]
    }
   ],
   "source": [
    "#bi-gram, tri-gram and n-gram\n",
    "\n",
    "#removing stop words like \"not\" should be avoided before building n-grams\n",
    "# count_vect = CountVectorizer(ngram_range=(1,2))\n",
    "# please do read the CountVectorizer documentation http://scikit-learn.org/stable/modules/generated/sklearn.feature_extraction.text.CountVectorizer.html\n",
    "\n",
    "# you can choose these numebrs min_df=10, max_features=5000, of your choice\n",
    "\n",
    "count_vect = CountVectorizer(ngram_range = (1,2),min_df = 10, max_features = 5000)\n",
    "final_bigram_counts = count_vect.fit_transform(preprocessed_reviews)\n",
    "print(\"the type of count vectorizer \",type(final_bigram_counts))\n",
    "print(\"the shape of out text BOW vectorizer \",final_bigram_counts.get_shape())\n",
    "print(\"the number of unique words including both unigrams and bigrams \", final_bigram_counts.get_shape()[1])"
   ]
  },
  {
   "cell_type": "markdown",
   "metadata": {},
   "source": [
    "## [4.3] TF-IDF"
   ]
  },
  {
   "cell_type": "code",
   "execution_count": 27,
   "metadata": {},
   "outputs": [
    {
     "name": "stdout",
     "output_type": "stream",
     "text": [
      "Some sample features(unique words in the corpus) ['aa', 'aafco', 'aback', 'abandon', 'abandoned', 'abdominal', 'ability', 'able', 'able add', 'able brew']\n",
      "==================================================\n",
      "the type of count vectorizer  <class 'scipy.sparse.csr.csr_matrix'>\n",
      "the shape of out text TFIDF vectorizer  (87773, 51709)\n",
      "the number of unique words including both unigrams and bigrams  51709\n"
     ]
    }
   ],
   "source": [
    "tf_idf_vect = TfidfVectorizer(ngram_range = (1,2),min_df = 10)\n",
    "tf_idf_vect.fit(preprocessed_reviews)\n",
    "print(\"Some sample features(unique words in the corpus)\",tf_idf_vect.get_feature_names()[:10])\n",
    "print(\"=\"*50)\n",
    "\n",
    "final_tf_idf = tf_idf_vect.transform(preprocessed_reviews)\n",
    "print(\"the type of count vectorizer \",type(final_tf_idf))\n",
    "print(\"the shape of out text TFIDF vectorizer \",final_tf_idf.get_shape())\n",
    "print(\"the number of unique words including both unigrams and bigrams \", final_tf_idf.get_shape()[1])\n"
   ]
  },
  {
   "cell_type": "markdown",
   "metadata": {},
   "source": [
    "## [4.4] Word2Vec"
   ]
  },
  {
   "cell_type": "code",
   "execution_count": 28,
   "metadata": {},
   "outputs": [],
   "source": [
    "# Train your own Word2Vec model using your own text corpus\n",
    "i=0\n",
    "list_of_sentance=[]\n",
    "for sentance in preprocessed_reviews:\n",
    "    list_of_sentance.append(sentance.split())"
   ]
  },
  {
   "cell_type": "code",
   "execution_count": 29,
   "metadata": {},
   "outputs": [
    {
     "name": "stdout",
     "output_type": "stream",
     "text": [
      "[('awesome', 0.9050163626670837), ('wonderful', 0.9003623723983765), ('terrific', 0.8919556736946106), ('amazing', 0.8865437507629395), ('fabulous', 0.8585403561592102), ('excellent', 0.8504963517189026), ('great', 0.8339608311653137), ('incredible', 0.8212902545928955), ('outstanding', 0.7715994119644165), ('good', 0.7569578886032104)]\n",
      "==================================================\n",
      "[('greatest', 0.816286027431488), ('best', 0.7255226373672485), ('tastiest', 0.6975198984146118), ('disgusting', 0.6712246537208557), ('nastiest', 0.6660797595977783), ('horrible', 0.6382513046264648), ('awful', 0.6260204315185547), ('terrible', 0.6182101964950562), ('worse', 0.6088665723800659), ('foul', 0.6079682111740112)]\n"
     ]
    }
   ],
   "source": [
    "# Using Google News Word2Vectors\n",
    "\n",
    "# in this project we are using a pretrained model by google\n",
    "# its 3.3G file, once you load this into your memory \n",
    "# it occupies ~9Gb, so please do this step only if you have >12G of ram\n",
    "# we will provide a pickle file wich contains a dict , \n",
    "# and it contains all our courpus words as keys and  model[word] as values\n",
    "# To use this code-snippet, download \"GoogleNews-vectors-negative300.bin\" \n",
    "# from https://drive.google.com/file/d/0B7XkCwpI5KDYNlNUTTlSS21pQmM/edit\n",
    "# it's 1.9GB in size.\n",
    "\n",
    "\n",
    "# http://kavita-ganesan.com/gensim-word2vec-tutorial-starter-code/#.W17SRFAzZPY\n",
    "# you can comment this whole cell\n",
    "# or change these varible according to your need\n",
    "\n",
    "is_your_ram_gt_16g=False\n",
    "want_to_use_google_w2v = False\n",
    "want_to_train_w2v = True\n",
    "\n",
    "if want_to_train_w2v:\n",
    "    # min_count = 5 considers only words that occured atleast 5 times\n",
    "    w2v_model=Word2Vec(list_of_sentance,min_count=5,size=50, workers=4)\n",
    "    print(w2v_model.wv.most_similar('fantastic'))\n",
    "    print('='*50)\n",
    "    print(w2v_model.wv.most_similar('worst'))\n",
    "    \n",
    "elif want_to_use_google_w2v and is_your_ram_gt_16g:\n",
    "    if os.path.isfile('GoogleNews-vectors-negative300.bin'):\n",
    "        w2v_model=KeyedVectors.load_word2vec_format('GoogleNews-vectors-negative300.bin', binary=True)\n",
    "        print(w2v_model.wv.most_similar('great'))\n",
    "        print(w2v_model.wv.most_similar('worst'))\n",
    "    else:\n",
    "        print(\"you don't have gogole's word2vec file, keep want_to_train_w2v = True, to train your own w2v \")"
   ]
  },
  {
   "cell_type": "code",
   "execution_count": 30,
   "metadata": {},
   "outputs": [
    {
     "data": {
      "text/plain": [
       "array([-3.6288705 , -1.6223444 ,  2.9562695 ,  1.1769639 ,  0.8974338 ,\n",
       "       -1.6225542 , -3.7344227 ,  1.1765305 , -2.9419343 ,  0.2187164 ,\n",
       "        1.1840062 ,  5.136531  ,  2.7170248 , -1.1796122 ,  1.9343483 ,\n",
       "       -1.0633048 , -0.9921571 ,  4.8271813 , -0.021049  , -1.3322386 ,\n",
       "       -2.2329984 ,  1.9038689 ,  0.09937615, -0.62413716,  0.08160663,\n",
       "        1.4997026 , -2.4214957 , -2.1420772 ,  0.04578348, -1.57712   ,\n",
       "       -3.6432917 ,  2.2925448 ,  3.01118   ,  1.3435087 , -0.6683981 ,\n",
       "       -2.180399  ,  1.1214092 ,  1.7526863 ,  0.03363544,  0.88290024,\n",
       "       -2.9044678 , -1.9176309 , -1.3747578 ,  2.1743948 , -3.701567  ,\n",
       "       -2.189951  ,  0.26749936, -0.08731744, -0.37890202, -0.9397238 ],\n",
       "      dtype=float32)"
      ]
     },
     "execution_count": 30,
     "metadata": {},
     "output_type": "execute_result"
    }
   ],
   "source": [
    "w2v_model.wv[\"dog\"]"
   ]
  },
  {
   "cell_type": "code",
   "execution_count": 31,
   "metadata": {},
   "outputs": [
    {
     "name": "stdout",
     "output_type": "stream",
     "text": [
      "Number of words that occured minimum 5 times  17386\n",
      "Sample words  ['dogs', 'loves', 'chicken', 'product', 'china', 'wont', 'buying', 'anymore', 'hard', 'find', 'products', 'made', 'usa', 'one', 'isnt', 'bad', 'good', 'take', 'chances', 'till', 'know', 'going', 'imports', 'love', 'saw', 'pet', 'store', 'tag', 'attached', 'regarding', 'satisfied', 'safe', 'infestation', 'literally', 'everywhere', 'flying', 'around', 'kitchen', 'bought', 'hoping', 'least', 'get', 'rid', 'weeks', 'fly', 'stuck', 'squishing', 'buggers', 'success', 'rate']\n"
     ]
    }
   ],
   "source": [
    "w2v_words = list(w2v_model.wv.vocab)\n",
    "print(\"Number of words that occured minimum 5 times \", len(w2v_words)) # Because we took min count = 5 in word2vec \n",
    "print(\"Sample words \", w2v_words[0:50])"
   ]
  },
  {
   "cell_type": "markdown",
   "metadata": {},
   "source": [
    "## [4.4.1] Converting text into vectors using Avg W2V, TFIDF-W2V"
   ]
  },
  {
   "cell_type": "markdown",
   "metadata": {},
   "source": [
    "### [4.4.1.1] Avg W2v"
   ]
  },
  {
   "cell_type": "code",
   "execution_count": 32,
   "metadata": {},
   "outputs": [
    {
     "name": "stderr",
     "output_type": "stream",
     "text": [
      "100%|██████████| 87773/87773 [04:32<00:00, 322.54it/s]"
     ]
    },
    {
     "name": "stdout",
     "output_type": "stream",
     "text": [
      "87773\n",
      "50\n"
     ]
    },
    {
     "name": "stderr",
     "output_type": "stream",
     "text": [
      "\n"
     ]
    }
   ],
   "source": [
    "# average Word2Vec\n",
    "# Compute average word2Vec for each review.\n",
    "sent_vectors = [] # the avg-w2v for each sentence/review is stored in this list\n",
    "for sent in tqdm(list_of_sentance): # for each review/sentence\n",
    "    sent_vec = np.zeros(50) # as word vectors are of zero length 50, you might need to change this to 300 if we use google's w2v\n",
    "    cnt_words = 0 # num of word in a review/sentence\n",
    "    for word in sent: # for each word in a review/sentence\n",
    "        if word in w2v_words:\n",
    "            vec = w2v_model.wv[word]\n",
    "            sent_vec += vec\n",
    "            cnt_words += 1\n",
    "    if cnt_words != 0:\n",
    "        sent_vec /= cnt_words\n",
    "    sent_vectors.append(sent_vec)\n",
    "print(len(sent_vectors))\n",
    "print(len(sent_vectors[0]))\n",
    "        \n",
    "    \n",
    "    \n",
    "    "
   ]
  },
  {
   "cell_type": "markdown",
   "metadata": {},
   "source": [
    "### [4.4.1.2] TFIDF weighted W2v"
   ]
  },
  {
   "cell_type": "code",
   "execution_count": 33,
   "metadata": {},
   "outputs": [],
   "source": [
    "# S = [\"abc def pqr\", \"def def def abc\", \"pqr pqr def\"]\n",
    "model = TfidfVectorizer()\n",
    "tf_idf_matrix = model.fit_transform(preprocessed_reviews)\n",
    "# we are converting a dictionary with word as a key, and the idf as a value\n",
    "dictinory = dict(zip(model.get_feature_names(),list(model.idf_)))"
   ]
  },
  {
   "cell_type": "code",
   "execution_count": 34,
   "metadata": {
    "collapsed": true,
    "jupyter": {
     "outputs_hidden": true
    }
   },
   "outputs": [
    {
     "data": {
      "text/plain": [
       "{'aa': 9.4380816290397,\n",
       " 'aaa': 10.590761138978086,\n",
       " 'aaaa': 10.773082695772041,\n",
       " 'aaaaa': 11.689373427646196,\n",
       " 'aaaaaaaaaaaa': 11.689373427646196,\n",
       " 'aaaaaaaaaaaaaaa': 11.689373427646196,\n",
       " 'aaaaaaahhhhhh': 11.689373427646196,\n",
       " 'aaaaaaarrrrrggghhh': 11.689373427646196,\n",
       " 'aaaaaawwwwwwwwww': 11.689373427646196,\n",
       " 'aaaaah': 11.689373427646196,\n",
       " 'aaaah': 11.689373427646196,\n",
       " 'aaaand': 11.689373427646196,\n",
       " 'aaah': 11.283908319538032,\n",
       " 'aaahs': 11.689373427646196,\n",
       " 'aachen': 11.689373427646196,\n",
       " 'aadp': 11.689373427646196,\n",
       " 'aaf': 11.689373427646196,\n",
       " 'aafco': 9.60993188596636,\n",
       " 'aah': 11.689373427646196,\n",
       " 'aahhhs': 11.689373427646196,\n",
       " 'aahing': 11.689373427646196,\n",
       " 'aahs': 11.283908319538032,\n",
       " 'aamazon': 11.283908319538032,\n",
       " 'aap': 11.283908319538032,\n",
       " 'aarthur': 11.689373427646196,\n",
       " 'aarti': 11.689373427646196,\n",
       " 'aasanfood': 11.689373427646196,\n",
       " 'ab': 10.590761138978086,\n",
       " 'aback': 9.743463278590882,\n",
       " 'abandon': 9.897613958418141,\n",
       " 'abandoned': 9.60993188596636,\n",
       " 'abandoning': 10.99622624708625,\n",
       " 'abates': 11.283908319538032,\n",
       " 'abb': 11.689373427646196,\n",
       " 'abbaye': 11.689373427646196,\n",
       " 'abberline': 11.689373427646196,\n",
       " 'abbey': 11.283908319538032,\n",
       " 'abbott': 10.99622624708625,\n",
       " 'abbreviated': 10.99622624708625,\n",
       " 'abbreviation': 11.689373427646196,\n",
       " 'abby': 10.773082695772041,\n",
       " 'abc': 10.436610459150828,\n",
       " 'abcessed': 11.689373427646196,\n",
       " 'abd': 11.283908319538032,\n",
       " 'abdomen': 10.436610459150828,\n",
       " 'abdominal': 9.492148850309976,\n",
       " 'abe': 11.689373427646196,\n",
       " 'abeneficial': 11.689373427646196,\n",
       " 'aberration': 11.689373427646196,\n",
       " 'abetter': 11.689373427646196,\n",
       " 'abhor': 11.689373427646196,\n",
       " 'abhors': 11.689373427646196,\n",
       " 'abid': 11.689373427646196,\n",
       " 'abide': 10.436610459150828,\n",
       " 'abiding': 11.689373427646196,\n",
       " 'abig': 11.689373427646196,\n",
       " 'abilities': 10.079935515212096,\n",
       " 'ability': 7.55420687090384,\n",
       " 'abilling': 11.689373427646196,\n",
       " 'abit': 10.436610459150828,\n",
       " 'abita': 11.689373427646196,\n",
       " 'ablaze': 10.99622624708625,\n",
       " 'able': 4.601799722088223,\n",
       " 'ablity': 11.689373427646196,\n",
       " 'ablution': 11.283908319538032,\n",
       " 'abnormal': 10.185296030869921,\n",
       " 'abnormalities': 10.303079066526305,\n",
       " 'abnormality': 11.689373427646196,\n",
       " 'abnormally': 10.99622624708625,\n",
       " 'abnoxious': 11.689373427646196,\n",
       " 'aboard': 11.283908319538032,\n",
       " 'abode': 11.283908319538032,\n",
       " 'abolitionists': 11.689373427646196,\n",
       " 'abolutely': 11.689373427646196,\n",
       " 'abolutley': 11.689373427646196,\n",
       " 'abomination': 10.590761138978086,\n",
       " 'abominations': 10.99622624708625,\n",
       " 'abondant': 11.689373427646196,\n",
       " 'aboout': 11.283908319538032,\n",
       " 'abor': 11.689373427646196,\n",
       " 'aborio': 11.689373427646196,\n",
       " 'aboslutely': 11.689373427646196,\n",
       " 'abosolutly': 11.689373427646196,\n",
       " 'abosoutely': 11.689373427646196,\n",
       " 'abosrb': 11.689373427646196,\n",
       " 'abosutely': 11.689373427646196,\n",
       " 'abot': 11.689373427646196,\n",
       " 'abottle': 11.689373427646196,\n",
       " 'abou': 11.283908319538032,\n",
       " 'aboulutely': 11.689373427646196,\n",
       " 'abound': 10.773082695772041,\n",
       " 'abounds': 10.773082695772041,\n",
       " 'abour': 11.689373427646196,\n",
       " 'aboutamazon': 11.689373427646196,\n",
       " 'aboutmy': 11.689373427646196,\n",
       " 'aboutone': 11.689373427646196,\n",
       " 'aboutthe': 11.283908319538032,\n",
       " 'abovei': 11.689373427646196,\n",
       " 'aboveour': 11.689373427646196,\n",
       " 'abovethirst': 11.689373427646196,\n",
       " 'aboviously': 11.689373427646196,\n",
       " 'abowl': 11.283908319538032,\n",
       " 'abowt': 11.689373427646196,\n",
       " 'abraded': 11.689373427646196,\n",
       " 'abrasions': 11.689373427646196,\n",
       " 'abrasive': 10.436610459150828,\n",
       " 'abreakfast': 11.689373427646196,\n",
       " 'abreast': 11.689373427646196,\n",
       " 'abroad': 9.549307264149926,\n",
       " 'abrubt': 11.689373427646196,\n",
       " 'abrupt': 11.283908319538032,\n",
       " 'abruptly': 11.283908319538032,\n",
       " 'abruptness': 11.689373427646196,\n",
       " 'abruzzo': 11.689373427646196,\n",
       " 'abs': 10.590761138978086,\n",
       " 'absalutely': 11.689373427646196,\n",
       " 'abscess': 11.689373427646196,\n",
       " 'absconded': 11.283908319538032,\n",
       " 'absconding': 11.283908319538032,\n",
       " 'absence': 8.886013046739661,\n",
       " 'absensce': 11.689373427646196,\n",
       " 'absense': 11.689373427646196,\n",
       " 'absent': 9.050316098030937,\n",
       " 'absentmindedly': 11.689373427646196,\n",
       " 'absinthe': 10.773082695772041,\n",
       " 'absofrigginlutely': 11.689373427646196,\n",
       " 'absoletly': 11.689373427646196,\n",
       " 'absoloutely': 11.689373427646196,\n",
       " 'absoluey': 11.689373427646196,\n",
       " 'absoluley': 11.689373427646196,\n",
       " 'absolustely': 11.689373427646196,\n",
       " 'absolut': 11.283908319538032,\n",
       " 'absolute': 6.568390076381075,\n",
       " 'absoluteley': 11.689373427646196,\n",
       " 'absolutelly': 11.283908319538032,\n",
       " 'absolutelty': 11.283908319538032,\n",
       " 'absolutely': 4.593066042119467,\n",
       " 'absolutelydelicious': 11.689373427646196,\n",
       " 'absolutey': 11.689373427646196,\n",
       " 'absolutlely': 11.283908319538032,\n",
       " 'absolutley': 9.60993188596636,\n",
       " 'absolutly': 9.050316098030937,\n",
       " 'absoluttely': 11.689373427646196,\n",
       " 'absolve': 11.689373427646196,\n",
       " 'absorb': 7.664021736911047,\n",
       " 'absorbable': 10.99622624708625,\n",
       " 'absorbant': 11.689373427646196,\n",
       " 'absorbed': 8.271646744032829,\n",
       " 'absorbency': 11.689373427646196,\n",
       " 'absorber': 11.283908319538032,\n",
       " 'absorbic': 11.689373427646196,\n",
       " 'absorbing': 9.4380816290397,\n",
       " 'absorbs': 8.827172546716728,\n",
       " 'absorbtion': 10.99622624708625,\n",
       " 'absorption': 9.4380816290397,\n",
       " 'absoulte': 11.283908319538032,\n",
       " 'absoultely': 10.99622624708625,\n",
       " 'absoultly': 11.689373427646196,\n",
       " 'absoulutely': 11.283908319538032,\n",
       " 'absoulutly': 11.689373427646196,\n",
       " 'absoute': 11.689373427646196,\n",
       " 'absoutely': 11.689373427646196,\n",
       " 'absoutly': 10.99622624708625,\n",
       " 'abstain': 11.689373427646196,\n",
       " 'abstaining': 11.283908319538032,\n",
       " 'abstract': 11.689373427646196,\n",
       " 'abstraction': 11.689373427646196,\n",
       " 'abstracts': 11.689373427646196,\n",
       " 'absurd': 9.291478154847825,\n",
       " 'absurdities': 11.689373427646196,\n",
       " 'absurdly': 10.773082695772041,\n",
       " 'abt': 10.99622624708625,\n",
       " 'abu': 11.689373427646196,\n",
       " 'abuelita': 10.185296030869921,\n",
       " 'abums': 11.689373427646196,\n",
       " 'abundance': 8.981323226543985,\n",
       " 'abundant': 9.050316098030937,\n",
       " 'abundent': 11.689373427646196,\n",
       " 'abundunce': 11.689373427646196,\n",
       " 'abuse': 9.60993188596636,\n",
       " 'abused': 10.185296030869921,\n",
       " 'abusing': 11.689373427646196,\n",
       " 'abusive': 11.689373427646196,\n",
       " 'abut': 10.590761138978086,\n",
       " 'abv': 10.773082695772041,\n",
       " 'abysmal': 11.283908319538032,\n",
       " 'abysmally': 11.689373427646196,\n",
       " 'abyssinian': 11.689373427646196,\n",
       " 'ac': 10.436610459150828,\n",
       " 'aca': 11.689373427646196,\n",
       " 'acabaron': 11.689373427646196,\n",
       " 'acacia': 9.817571250744605,\n",
       " 'academia': 11.689373427646196,\n",
       " 'academy': 9.60993188596636,\n",
       " 'acai': 7.664021736911047,\n",
       " 'acaia': 11.689373427646196,\n",
       " 'acana': 9.38678833465215,\n",
       " 'accel': 11.689373427646196,\n",
       " 'accelerade': 11.689373427646196,\n",
       " 'accelerant': 11.689373427646196,\n",
       " 'accelerated': 11.689373427646196,\n",
       " 'accelerates': 11.689373427646196,\n",
       " 'acceleration': 11.689373427646196,\n",
       " 'accelerator': 11.689373427646196,\n",
       " 'accent': 9.247026392276991,\n",
       " 'accented': 10.590761138978086,\n",
       " 'accents': 10.303079066526305,\n",
       " 'accentuate': 10.590761138978086,\n",
       " 'accentuated': 11.689373427646196,\n",
       " 'accentuates': 10.99622624708625,\n",
       " 'accenuate': 11.689373427646196,\n",
       " 'accept': 7.8607320311571005,\n",
       " 'acceptability': 11.689373427646196,\n",
       " 'acceptable': 7.332664600956604,\n",
       " 'acceptablebut': 11.689373427646196,\n",
       " 'acceptably': 11.283908319538032,\n",
       " 'acceptale': 11.689373427646196,\n",
       " 'acceptance': 10.436610459150828,\n",
       " 'acceptation': 11.689373427646196,\n",
       " 'accepted': 8.271646744032829,\n",
       " 'accepting': 10.079935515212096,\n",
       " 'acceptional': 11.689373427646196,\n",
       " 'accepts': 10.079935515212096,\n",
       " 'access': 7.603397115094611,\n",
       " 'accessable': 10.99622624708625,\n",
       " 'accessed': 11.689373427646196,\n",
       " 'accessible': 9.247026392276991,\n",
       " 'accessing': 11.689373427646196,\n",
       " 'accessories': 9.817571250744605,\n",
       " 'accessory': 10.436610459150828,\n",
       " 'accident': 7.6911727259769975,\n",
       " 'accidental': 10.590761138978086,\n",
       " 'accidentally': 7.882710937875876,\n",
       " 'accidently': 9.492148850309976,\n",
       " 'accidents': 9.204466777858196,\n",
       " 'accient': 11.689373427646196,\n",
       " 'acciughe': 11.283908319538032,\n",
       " 'acclaim': 11.689373427646196,\n",
       " 'acclaimed': 10.99622624708625,\n",
       " 'acclamate': 11.689373427646196,\n",
       " 'acclimate': 10.773082695772041,\n",
       " 'acclimated': 10.436610459150828,\n",
       " 'acclimates': 11.689373427646196,\n",
       " 'acclimation': 11.689373427646196,\n",
       " 'acclimatization': 11.689373427646196,\n",
       " 'accolades': 11.283908319538032,\n",
       " 'accommodate': 9.98462533540777,\n",
       " 'accommodated': 11.283908319538032,\n",
       " 'accommodating': 10.303079066526305,\n",
       " 'accomodate': 10.590761138978086,\n",
       " 'accomodated': 11.689373427646196,\n",
       " 'accomodation': 11.689373427646196,\n",
       " 'accompained': 11.689373427646196,\n",
       " 'accompainment': 11.689373427646196,\n",
       " 'accompanied': 9.337998170482718,\n",
       " 'accompanies': 9.67447040710393,\n",
       " 'accompaniment': 9.086683742201812,\n",
       " 'accompaniments': 10.590761138978086,\n",
       " 'accompany': 9.050316098030937,\n",
       " 'accompanying': 9.67447040710393,\n",
       " 'accomplice': 11.689373427646196,\n",
       " 'accomplish': 9.204466777858196,\n",
       " 'accomplished': 9.743463278590882,\n",
       " 'accomplishes': 11.283908319538032,\n",
       " 'accomplishing': 11.283908319538032,\n",
       " 'accomplishment': 10.079935515212096,\n",
       " 'accomplishments': 11.689373427646196,\n",
       " 'accord': 11.283908319538032,\n",
       " 'accordance': 10.185296030869921,\n",
       " 'according': 6.342265896928727,\n",
       " 'accordingly': 8.51131959729825,\n",
       " 'accords': 11.689373427646196,\n",
       " 'accoring': 11.689373427646196,\n",
       " 'account': 7.767400091364881,\n",
       " 'accountability': 11.689373427646196,\n",
       " 'accountable': 10.436610459150828,\n",
       " 'accountant': 10.99622624708625,\n",
       " 'accountants': 11.689373427646196,\n",
       " 'accounted': 10.99622624708625,\n",
       " 'accounting': 10.079935515212096,\n",
       " 'accounts': 9.204466777858196,\n",
       " 'accourding': 11.689373427646196,\n",
       " 'accoutrement': 11.689373427646196,\n",
       " 'accoutrements': 10.99622624708625,\n",
       " 'accredited': 10.99622624708625,\n",
       " 'accross': 10.079935515212096,\n",
       " 'accrue': 11.689373427646196,\n",
       " 'acctually': 11.689373427646196,\n",
       " 'accualy': 11.689373427646196,\n",
       " 'accumulate': 10.590761138978086,\n",
       " 'accumulated': 10.590761138978086,\n",
       " 'accumulates': 11.689373427646196,\n",
       " 'accumulating': 10.773082695772041,\n",
       " 'accumulation': 10.99622624708625,\n",
       " 'accuracy': 10.185296030869921,\n",
       " 'accurate': 7.6551327894938,\n",
       " 'accurately': 9.16364478333794,\n",
       " 'accusatory': 11.283908319538032,\n",
       " 'accuse': 11.283908319538032,\n",
       " 'accused': 10.99622624708625,\n",
       " 'accustom': 10.773082695772041,\n",
       " 'accustomed': 7.767400091364881,\n",
       " 'accustomized': 11.689373427646196,\n",
       " 'accustume': 11.689373427646196,\n",
       " 'acd': 11.283908319538032,\n",
       " 'ace': 10.303079066526305,\n",
       " 'acehardwareoutlet': 11.283908319538032,\n",
       " 'aceita': 11.689373427646196,\n",
       " 'acerbic': 11.689373427646196,\n",
       " 'acerola': 8.30498316430042,\n",
       " 'aces': 11.283908319538032,\n",
       " 'acess': 11.283908319538032,\n",
       " 'acesulfame': 9.337998170482718,\n",
       " 'acetaia': 11.689373427646196,\n",
       " 'acetaminophen': 10.99622624708625,\n",
       " 'acetate': 10.590761138978086,\n",
       " 'acetic': 10.303079066526305,\n",
       " 'aceto': 11.283908319538032,\n",
       " 'acetone': 11.689373427646196,\n",
       " 'acetyl': 11.689373427646196,\n",
       " 'acetylated': 11.689373427646196,\n",
       " 'ach': 11.689373427646196,\n",
       " 'achdut': 11.689373427646196,\n",
       " 'ache': 8.288176045984041,\n",
       " 'ached': 11.283908319538032,\n",
       " 'aches': 8.916784705406414,\n",
       " 'achievable': 11.689373427646196,\n",
       " 'achieve': 8.693641154092205,\n",
       " 'achieved': 9.492148850309976,\n",
       " 'achievement': 11.689373427646196,\n",
       " 'achievements': 11.689373427646196,\n",
       " 'achieves': 10.99622624708625,\n",
       " 'achieving': 10.590761138978086,\n",
       " 'achild': 11.689373427646196,\n",
       " 'achilles': 11.689373427646196,\n",
       " 'achin': 11.689373427646196,\n",
       " 'aching': 10.303079066526305,\n",
       " 'achingly': 11.689373427646196,\n",
       " 'achva': 10.99622624708625,\n",
       " 'achy': 10.436610459150828,\n",
       " 'acia': 11.689373427646196,\n",
       " 'acic': 11.689373427646196,\n",
       " 'acicification': 11.689373427646196,\n",
       " 'acid': 5.838608762641349,\n",
       " 'acidacidity': 11.689373427646196,\n",
       " 'acidascorbic': 11.689373427646196,\n",
       " 'acidcayenne': 11.689373427646196,\n",
       " 'aciddecaffeinated': 11.689373427646196,\n",
       " 'acides': 11.689373427646196,\n",
       " 'acidic': 6.67873813354994,\n",
       " 'acidiccons': 11.689373427646196,\n",
       " 'acidifies': 11.689373427646196,\n",
       " 'acidify': 10.773082695772041,\n",
       " 'acidifying': 11.689373427646196,\n",
       " 'acidity': 7.24672217115588,\n",
       " 'acidmalic': 11.689373427646196,\n",
       " 'acido': 11.689373427646196,\n",
       " 'acidolphilus': 11.283908319538032,\n",
       " 'acidophilus': 9.67447040710393,\n",
       " 'acidphosphoric': 11.689373427646196,\n",
       " 'acidpotassium': 11.689373427646196,\n",
       " 'acids': 7.787400758071551,\n",
       " 'acidsfacilitate': 11.283908319538032,\n",
       " 'acidtannic': 11.689373427646196,\n",
       " 'acidtartaric': 11.689373427646196,\n",
       " 'acidulant': 11.689373427646196,\n",
       " 'acidxantham': 11.689373427646196,\n",
       " 'acidy': 10.185296030869921,\n",
       " 'acing': 11.689373427646196,\n",
       " 'acis': 11.689373427646196,\n",
       " 'ack': 11.283908319538032,\n",
       " 'ackee': 10.303079066526305,\n",
       " 'acknowledge': 9.549307264149926,\n",
       " 'acknowledged': 10.303079066526305,\n",
       " 'acknowledgement': 10.590761138978086,\n",
       " 'acknowledges': 11.689373427646196,\n",
       " 'acknowledging': 11.283908319538032,\n",
       " 'acknowledgment': 11.283908319538032,\n",
       " 'acl': 10.590761138978086,\n",
       " 'acls': 11.689373427646196,\n",
       " 'acme': 10.99622624708625,\n",
       " 'acne': 8.621320492512579,\n",
       " 'acneic': 11.689373427646196,\n",
       " 'acoconut': 11.689373427646196,\n",
       " 'acommodate': 11.689373427646196,\n",
       " 'acompetitive': 11.689373427646196,\n",
       " 'acorbic': 11.689373427646196,\n",
       " 'acording': 10.773082695772041,\n",
       " 'acorn': 11.689373427646196,\n",
       " 'acorss': 11.689373427646196,\n",
       " 'acount': 11.689373427646196,\n",
       " 'acoustic': 11.689373427646196,\n",
       " 'acoustically': 11.689373427646196,\n",
       " 'acquaintance': 10.436610459150828,\n",
       " 'acquaintances': 10.436610459150828,\n",
       " 'acquainted': 9.743463278590882,\n",
       " 'acquiesce': 11.689373427646196,\n",
       " 'acquire': 8.948533403720994,\n",
       " 'acquired': 7.530490344286524,\n",
       " 'acquires': 11.283908319538032,\n",
       " 'acquiring': 10.185296030869921,\n",
       " 'acquisition': 10.303079066526305,\n",
       " 'acre': 10.773082695772041,\n",
       " 'acres': 10.590761138978086,\n",
       " 'acrid': 9.086683742201812,\n",
       " 'acronym': 11.689373427646196,\n",
       " 'across': 5.983925673670933,\n",
       " 'acrylic': 11.689373427646196,\n",
       " 'act': 7.75754779492187,\n",
       " 'actaully': 11.689373427646196,\n",
       " 'acted': 9.204466777858196,\n",
       " 'actii': 11.689373427646196,\n",
       " 'acting': 8.668948541501834,\n",
       " 'action': 7.882710937875876,\n",
       " 'actions': 10.303079066526305,\n",
       " 'activa': 11.689373427646196,\n",
       " 'activate': 9.897613958418141,\n",
       " 'activated': 10.99622624708625,\n",
       " 'activates': 10.773082695772041,\n",
       " 'activating': 11.283908319538032,\n",
       " 'activator': 11.689373427646196,\n",
       " 'active': 7.0118825800784785,\n",
       " 'activei': 11.689373427646196,\n",
       " 'actively': 9.492148850309976,\n",
       " 'activepdf': 11.689373427646196,\n",
       " 'activer': 11.689373427646196,\n",
       " 'actives': 11.689373427646196,\n",
       " 'activia': 10.773082695772041,\n",
       " 'activin': 11.689373427646196,\n",
       " 'activists': 11.283908319538032,\n",
       " 'activities': 8.693641154092205,\n",
       " 'activity': 7.849921115052885,\n",
       " 'activitys': 11.689373427646196,\n",
       " 'actlly': 11.689373427646196,\n",
       " 'actor': 10.773082695772041,\n",
       " 'actors': 10.773082695772041,\n",
       " 'acts': 8.357168917470993,\n",
       " 'actual': 6.002398071306376,\n",
       " 'actuality': 9.98462533540777,\n",
       " 'actuallly': 11.689373427646196,\n",
       " 'actually': 4.182506960030707,\n",
       " 'actuallymanage': 11.689373427646196,\n",
       " 'actuallytake': 11.689373427646196,\n",
       " 'actualy': 10.773082695772041,\n",
       " 'actully': 11.689373427646196,\n",
       " 'acually': 11.283908319538032,\n",
       " 'acuity': 11.689373427646196,\n",
       " 'acupressure': 11.689373427646196,\n",
       " 'acupuncture': 11.283908319538032,\n",
       " 'acupuncturist': 10.590761138978086,\n",
       " 'acura': 11.689373427646196,\n",
       " 'acustom': 11.689373427646196,\n",
       " 'acutal': 11.689373427646196,\n",
       " 'acutally': 10.773082695772041,\n",
       " 'acute': 10.303079066526305,\n",
       " 'acutely': 11.689373427646196,\n",
       " 'acutually': 11.689373427646196,\n",
       " 'acv': 11.689373427646196,\n",
       " 'ad': 7.767400091364881,\n",
       " 'adage': 10.303079066526305,\n",
       " 'adagio': 9.817571250744605,\n",
       " 'adam': 11.283908319538032,\n",
       " 'adamant': 10.99622624708625,\n",
       " 'adamantly': 11.283908319538032,\n",
       " 'adament': 11.689373427646196,\n",
       " 'adams': 10.185296030869921,\n",
       " 'adana': 11.689373427646196,\n",
       " 'adapt': 9.291478154847825,\n",
       " 'adaptability': 11.689373427646196,\n",
       " 'adaptable': 10.99622624708625,\n",
       " 'adaptagen': 11.689373427646196,\n",
       " 'adaptation': 10.99622624708625,\n",
       " 'adapted': 9.60993188596636,\n",
       " 'adapter': 9.60993188596636,\n",
       " 'adapting': 11.283908319538032,\n",
       " 'adaptogen': 11.283908319538032,\n",
       " 'adaptogenic': 11.689373427646196,\n",
       " 'adaptogens': 11.689373427646196,\n",
       " 'adaptor': 10.99622624708625,\n",
       " 'adapts': 10.773082695772041,\n",
       " 'add': 3.917673897162113,\n",
       " 'addded': 10.99622624708625,\n",
       " 'addditives': 11.689373427646196,\n",
       " 'adddres': 11.689373427646196,\n",
       " 'added': 4.399762906195027,\n",
       " 'addedrecommended': 11.689373427646196,\n",
       " 'addedsweeteners': 11.689373427646196,\n",
       " 'addedthis': 11.283908319538032,\n",
       " 'addendum': 9.743463278590882,\n",
       " 'adder': 11.689373427646196,\n",
       " 'addicated': 11.689373427646196,\n",
       " 'addiciting': 11.689373427646196,\n",
       " 'addiciton': 11.689373427646196,\n",
       " 'addict': 7.440878185596837,\n",
       " 'addictable': 11.689373427646196,\n",
       " 'addicted': 6.1500725916556185,\n",
       " 'addicting': 7.195134802365386,\n",
       " 'addictingly': 11.283908319538032,\n",
       " 'addiction': 7.55420687090384,\n",
       " 'addictioni': 11.689373427646196,\n",
       " 'addictions': 10.773082695772041,\n",
       " 'addictive': 6.383584046259458,\n",
       " 'addictively': 10.185296030869921,\n",
       " 'addictiveness': 11.689373427646196,\n",
       " 'addicts': 9.086683742201812,\n",
       " 'addif': 11.689373427646196,\n",
       " 'adding': 5.3237624556874765,\n",
       " 'addins': 11.689373427646196,\n",
       " 'addison': 10.99622624708625,\n",
       " 'additinal': 11.283908319538032,\n",
       " 'addition': 5.5516463735599615,\n",
       " 'additiona': 11.689373427646196,\n",
       " 'additional': 6.406169698908207,\n",
       " 'additionally': 7.8286437166056,\n",
       " 'additionis': 11.689373427646196,\n",
       " 'additionnal': 11.689373427646196,\n",
       " 'additions': 8.271646744032829,\n",
       " 'addititional': 11.689373427646196,\n",
       " 'addititives': 11.689373427646196,\n",
       " 'additive': 8.148414103608882,\n",
       " 'additives': 6.65893550625376,\n",
       " 'additivesas': 11.689373427646196,\n",
       " 'additoion': 11.689373427646196,\n",
       " 'additon': 10.773082695772041,\n",
       " 'additonal': 11.689373427646196,\n",
       " 'addled': 11.689373427646196,\n",
       " 'address': 7.849921115052885,\n",
       " 'addressed': 9.291478154847825,\n",
       " 'addresses': 10.079935515212096,\n",
       " 'addressesit': 11.689373427646196,\n",
       " 'addressing': 10.590761138978086,\n",
       " 'adds': 5.854562690583591,\n",
       " 'addsbounce': 11.689373427646196,\n",
       " 'addsthat': 11.689373427646196,\n",
       " 'addtion': 11.689373427646196,\n",
       " 'addtional': 11.689373427646196,\n",
       " 'addtions': 11.689373427646196,\n",
       " 'addy': 11.689373427646196,\n",
       " 'ade': 10.773082695772041,\n",
       " 'adelaide': 11.689373427646196,\n",
       " 'adelle': 11.689373427646196,\n",
       " 'adelman': 11.689373427646196,\n",
       " 'adem': 11.689373427646196,\n",
       " 'adept': 10.773082695772041,\n",
       " 'adepts': 11.689373427646196,\n",
       " 'adequacy': 11.689373427646196,\n",
       " 'adequate': 7.8607320311571005,\n",
       " 'adequately': 9.291478154847825,\n",
       " 'adequeately': 11.689373427646196,\n",
       " 'adfvnouadv': 11.689373427646196,\n",
       " 'adhd': 10.590761138978086,\n",
       " 'adheared': 11.283908319538032,\n",
       " 'adhere': 9.743463278590882,\n",
       " 'adhered': 10.436610459150828,\n",
       " 'adherence': 11.689373427646196,\n",
       " 'adheres': 10.99622624708625,\n",
       " 'adhesion': 11.283908319538032,\n",
       " 'adhesions': 11.689373427646196,\n",
       " 'adhesive': 9.60993188596636,\n",
       " 'adiabetic': 11.689373427646196,\n",
       " 'adiago': 11.689373427646196,\n",
       " 'adicionalmenre': 11.689373427646196,\n",
       " 'adicta': 11.689373427646196,\n",
       " 'adicted': 11.283908319538032,\n",
       " 'adictiing': 11.689373427646196,\n",
       " 'adictive': 11.689373427646196,\n",
       " 'adigo': 11.689373427646196,\n",
       " 'adiitonal': 11.689373427646196,\n",
       " 'adirondack': 11.283908319538032,\n",
       " 'adjacent': 10.590761138978086,\n",
       " 'adjectival': 11.689373427646196,\n",
       " 'adjectivally': 11.689373427646196,\n",
       " 'adjective': 10.99622624708625,\n",
       " 'adjectives': 10.185296030869921,\n",
       " 'adjunct': 10.590761138978086,\n",
       " 'adjust': 7.385308334442026,\n",
       " 'adjustability': 11.283908319538032,\n",
       " 'adjustable': 9.98462533540777,\n",
       " 'adjusted': 8.450694975481817,\n",
       " 'adjuster': 11.689373427646196,\n",
       " 'adjusting': 9.015224778219666,\n",
       " 'adjustment': 8.948533403720994,\n",
       " 'adjustments': 9.4380816290397,\n",
       " 'adjusts': 10.773082695772041,\n",
       " 'adkins': 11.689373427646196,\n",
       " 'adl': 11.689373427646196,\n",
       " 'admin': 10.99622624708625,\n",
       " 'administer': 9.98462533540777,\n",
       " 'administered': 10.773082695772041,\n",
       " 'administering': 10.590761138978086,\n",
       " 'administeringpills': 11.689373427646196,\n",
       " 'administration': 9.492148850309976,\n",
       " 'admirable': 10.99622624708625,\n",
       " 'admirably': 11.283908319538032,\n",
       " 'admiral': 11.689373427646196,\n",
       " 'admiration': 11.283908319538032,\n",
       " 'admire': 10.185296030869921,\n",
       " 'admired': 10.436610459150828,\n",
       " 'admiring': 11.689373427646196,\n",
       " 'admission': 10.99622624708625,\n",
       " 'admist': 11.689373427646196,\n",
       " 'admit': 6.121028923885099,\n",
       " 'admitedly': 11.689373427646196,\n",
       " 'admits': 10.590761138978086,\n",
       " 'admitted': 9.67447040710393,\n",
       " 'admittedly': 8.177827988815174,\n",
       " 'admitting': 10.079935515212096,\n",
       " 'admittitedly': 11.689373427646196,\n",
       " 'admoittedly': 11.689373427646196,\n",
       " 'admonish': 11.689373427646196,\n",
       " 'admonishing': 11.689373427646196,\n",
       " 'admonition': 11.283908319538032,\n",
       " 'adn': 10.773082695772041,\n",
       " 'adobe': 11.689373427646196,\n",
       " 'adobo': 10.590761138978086,\n",
       " 'adolescent': 10.773082695772041,\n",
       " 'adolescents': 11.689373427646196,\n",
       " 'adonis': 11.689373427646196,\n",
       " 'adopt': 9.817571250744605,\n",
       " 'adopted': 7.326274802857833,\n",
       " 'adoptee': 11.283908319538032,\n",
       " 'adopter': 11.689373427646196,\n",
       " 'adopters': 11.689373427646196,\n",
       " 'adopting': 10.303079066526305,\n",
       " 'adoption': 10.303079066526305,\n",
       " 'adoptions': 11.689373427646196,\n",
       " 'adoptive': 11.283908319538032,\n",
       " 'adoptogen': 11.689373427646196,\n",
       " 'adopts': 11.689373427646196,\n",
       " 'adora': 11.689373427646196,\n",
       " 'adorable': 8.412228694654019,\n",
       " 'adoration': 11.283908319538032,\n",
       " 'adore': 7.530490344286524,\n",
       " 'adored': 9.743463278590882,\n",
       " 'adores': 8.37518742297367,\n",
       " 'adoring': 11.689373427646196,\n",
       " 'adorn': 11.283908319538032,\n",
       " 'adorned': 11.283908319538032,\n",
       " 'adornment': 11.689373427646196,\n",
       " 'ados': 11.689373427646196,\n",
       " 'adoted': 11.689373427646196,\n",
       " 'adovada': 11.689373427646196,\n",
       " 'adrenal': 10.99622624708625,\n",
       " 'adrenaline': 10.303079066526305,\n",
       " 'adrenals': 10.773082695772041,\n",
       " 'adria': 11.689373427646196,\n",
       " 'adrian': 11.689373427646196,\n",
       " 'ads': 9.050316098030937,\n",
       " 'adsorbs': 11.689373427646196,\n",
       " 'adujstment': 11.689373427646196,\n",
       " 'adult': 6.437099999599566,\n",
       " 'adulterants': 11.283908319538032,\n",
       " 'adulterate': 11.283908319538032,\n",
       " 'adulterated': 9.291478154847825,\n",
       " 'adulthood': 10.773082695772041,\n",
       " 'adultlife': 11.689373427646196,\n",
       " 'adults': 6.927199492848439,\n",
       " 'adust': 11.689373427646196,\n",
       " 'adv': 11.689373427646196,\n",
       " 'advance': 8.078455515001972,\n",
       " 'advanced': 8.718958962076496,\n",
       " 'advancement': 11.689373427646196,\n",
       " 'advancing': 11.689373427646196,\n",
       " 'advantage': 7.345568005792512,\n",
       " 'advantageous': 10.99622624708625,\n",
       " 'advantages': 9.050316098030937,\n",
       " 'advantedge': 11.689373427646196,\n",
       " 'advent': 10.99622624708625,\n",
       " 'adventerous': 11.689373427646196,\n",
       " 'adventist': 11.689373427646196,\n",
       " 'adventure': 8.718958962076496,\n",
       " 'adventurers': 11.689373427646196,\n",
       " 'adventures': 10.436610459150828,\n",
       " 'adventuresome': 11.283908319538032,\n",
       " 'adventurous': 8.916784705406414,\n",
       " 'adventurously': 11.689373427646196,\n",
       " 'adverse': 8.431276889624714,\n",
       " 'adversely': 10.303079066526305,\n",
       " 'adversing': 11.689373427646196,\n",
       " 'advert': 11.689373427646196,\n",
       " 'advertise': 8.490700310095514,\n",
       " 'advertised': 6.413813048220775,\n",
       " 'advertisement': 8.575858118435821,\n",
       " 'advertisements': 10.185296030869921,\n",
       " 'advertises': 8.886013046739661,\n",
       " 'advertisibg': 11.689373427646196,\n",
       " 'advertisiment': 11.689373427646196,\n",
       " 'advertising': 7.49971868561977,\n",
       " 'advertisment': 10.99622624708625,\n",
       " 'advertisting': 11.689373427646196,\n",
       " 'advertize': 11.283908319538032,\n",
       " 'advertized': 9.38678833465215,\n",
       " 'advertizes': 11.689373427646196,\n",
       " 'advertizing': 11.283908319538032,\n",
       " 'adverts': 11.689373427646196,\n",
       " 'adviace': 11.689373427646196,\n",
       " 'advice': 7.270532819849598,\n",
       " 'adviced': 11.283908319538032,\n",
       " 'advil': 10.436610459150828,\n",
       " 'advisable': 10.590761138978086,\n",
       " 'advise': 7.728560258048618,\n",
       " 'advised': 7.988071453533702,\n",
       " 'advises': 10.303079066526305,\n",
       " 'advising': 10.185296030869921,\n",
       " 'advisor': 10.303079066526305,\n",
       " 'advisory': 10.185296030869921,\n",
       " 'advocare': 11.689373427646196,\n",
       " 'advocate': 9.743463278590882,\n",
       " 'advocates': 11.283908319538032,\n",
       " 'advocating': 11.689373427646196,\n",
       " 'adwance': 11.689373427646196,\n",
       " 'adzuki': 11.689373427646196,\n",
       " 'adzukis': 11.689373427646196,\n",
       " 'ae': 11.283908319538032,\n",
       " 'aebleskiver': 10.99622624708625,\n",
       " 'aegean': 11.689373427646196,\n",
       " 'aenough': 11.689373427646196,\n",
       " 'aerate': 11.689373427646196,\n",
       " 'aerated': 11.689373427646196,\n",
       " 'aerates': 11.689373427646196,\n",
       " 'aeration': 11.283908319538032,\n",
       " 'aero': 10.590761138978086,\n",
       " 'aerobic': 11.283908319538032,\n",
       " 'aeroccino': 10.99622624708625,\n",
       " 'aerochino': 11.689373427646196,\n",
       " 'aerodynamic': 11.689373427646196,\n",
       " 'aerolatte': 10.99622624708625,\n",
       " 'aeromaric': 11.689373427646196,\n",
       " 'aeromatic': 11.689373427646196,\n",
       " 'aeropress': 9.817571250744605,\n",
       " 'aerosol': 10.773082695772041,\n",
       " 'aesthetic': 10.303079066526305,\n",
       " 'aesthetically': 10.436610459150828,\n",
       " 'aesthetics': 10.079935515212096,\n",
       " 'af': 10.773082695772041,\n",
       " 'afaik': 11.689373427646196,\n",
       " 'afairly': 11.689373427646196,\n",
       " 'afantastic': 11.689373427646196,\n",
       " 'afater': 11.689373427646196,\n",
       " 'afb': 11.689373427646196,\n",
       " 'afer': 10.773082695772041,\n",
       " 'afertaste': 11.689373427646196,\n",
       " 'afew': 10.99622624708625,\n",
       " 'affair': 9.4380816290397,\n",
       " 'affairs': 10.079935515212096,\n",
       " 'affecionado': 11.689373427646196,\n",
       " 'affect': 7.50732328500499,\n",
       " 'affected': 8.22363752484647,\n",
       " 'affectedby': 11.689373427646196,\n",
       " 'affecting': 9.16364478333794,\n",
       " 'affection': 10.436610459150828,\n",
       " 'affectionados': 11.689373427646196,\n",
       " 'affectionate': 10.99622624708625,\n",
       " 'affectionately': 11.283908319538032,\n",
       " 'affectionatos': 11.689373427646196,\n",
       " 'affective': 10.773082695772041,\n",
       " 'affects': 8.177827988815174,\n",
       " 'affenpinscher': 11.283908319538032,\n",
       " 'afficianado': 10.773082695772041,\n",
       " 'afficiando': 11.689373427646196,\n",
       " 'afficianodo': 11.283908319538032,\n",
       " 'afficionado': 10.773082695772041,\n",
       " 'afficionados': 10.773082695772041,\n",
       " 'affies': 11.689373427646196,\n",
       " 'affiliate': 10.773082695772041,\n",
       " 'affiliated': 9.98462533540777,\n",
       " 'affiliates': 11.283908319538032,\n",
       " 'affiliation': 10.079935515212096,\n",
       " 'affinity': 9.98462533540777,\n",
       " 'affirm': 10.99622624708625,\n",
       " 'affirmations': 11.689373427646196,\n",
       " 'affirms': 11.689373427646196,\n",
       " 'affix': 11.689373427646196,\n",
       " 'affixed': 11.283908319538032,\n",
       " 'afflicted': 10.773082695772041,\n",
       " 'affliction': 10.99622624708625,\n",
       " 'afforable': 11.283908319538032,\n",
       " 'afford': 6.957570590724739,\n",
       " 'affordability': 10.436610459150828,\n",
       " 'affordable': 6.391056061098159,\n",
       " 'affordably': 10.590761138978086,\n",
       " 'afforded': 11.283908319538032,\n",
       " 'affords': 10.303079066526305,\n",
       " 'affordto': 11.689373427646196,\n",
       " 'affortable': 11.283908319538032,\n",
       " 'affront': 11.689373427646196,\n",
       " 'afghan': 10.99622624708625,\n",
       " 'afghanastan': 11.689373427646196,\n",
       " 'afghanistan': 8.37518742297367,\n",
       " 'afghans': 11.689373427646196,\n",
       " 'aficianado': 11.689373427646196,\n",
       " 'aficienado': 11.689373427646196,\n",
       " 'aficionada': 11.689373427646196,\n",
       " 'aficionado': 9.015224778219666,\n",
       " 'aficionadoes': 11.689373427646196,\n",
       " 'aficionados': 9.60993188596636,\n",
       " 'aflame': 11.689373427646196,\n",
       " 'aflatoxin': 11.689373427646196,\n",
       " 'afloat': 11.689373427646196,\n",
       " 'afnkjganfpbgneonb': 11.689373427646196,\n",
       " 'afoot': 11.689373427646196,\n",
       " 'afordable': 10.99622624708625,\n",
       " 'afore': 11.689373427646196,\n",
       " 'aforementioned': 8.981323226543985,\n",
       " 'aforesaid': 11.689373427646196,\n",
       " 'afrade': 11.689373427646196,\n",
       " 'afraid': 6.849131119478621,\n",
       " 'afraidto': 11.689373427646196,\n",
       " 'afriad': 11.689373427646196,\n",
       " 'africa': 8.553879211717046,\n",
       " 'africafe': 10.303079066526305,\n",
       " 'african': 8.148414103608882,\n",
       " 'africana': 11.689373427646196,\n",
       " 'africanredteacompany': 11.689373427646196,\n",
       " 'afrikaner': 11.689373427646196,\n",
       " 'afro': 11.689373427646196,\n",
       " 'afront': 11.689373427646196,\n",
       " 'afrotextured': 11.689373427646196,\n",
       " 'aft': 11.283908319538032,\n",
       " 'aften': 11.283908319538032,\n",
       " 'afterall': 9.60993188596636,\n",
       " 'afterbite': 10.773082695772041,\n",
       " 'afterburn': 10.99622624708625,\n",
       " 'afterdeath': 11.689373427646196,\n",
       " 'aftereffect': 11.689373427646196,\n",
       " 'aftereffects': 11.283908319538032,\n",
       " 'afterglow': 11.689373427646196,\n",
       " 'afterhaving': 11.689373427646196,\n",
       " 'afterholiday': 11.689373427646196,\n",
       " 'aftering': 11.689373427646196,\n",
       " 'afterlife': 11.689373427646196,\n",
       " 'aftermath': 10.99622624708625,\n",
       " 'afternon': 11.689373427646196,\n",
       " 'afternoon': 5.980603411478955,\n",
       " 'afternoons': 8.744934448479755,\n",
       " 'afteroon': 11.283908319538032,\n",
       " 'afters': 11.689373427646196,\n",
       " 'afterschool': 10.590761138978086,\n",
       " 'afterseeing': 11.689373427646196,\n",
       " 'aftershock': 11.689373427646196,\n",
       " 'aftertase': 10.303079066526305,\n",
       " 'aftertast': 11.689373427646196,\n",
       " 'aftertaste': 5.2484268870132755,\n",
       " 'aftertasteno': 11.689373427646196,\n",
       " 'aftertastes': 9.817571250744605,\n",
       " 'aftertatse': 11.689373427646196,\n",
       " 'afterthey': 11.689373427646196,\n",
       " 'afterthought': 10.773082695772041,\n",
       " 'afterward': 8.575858118435821,\n",
       " 'afterwards': 7.319925575179174,\n",
       " 'afterword': 11.689373427646196,\n",
       " 'afterwords': 10.590761138978086,\n",
       " 'aftetaste': 11.689373427646196,\n",
       " 'aftrrward': 11.689373427646196,\n",
       " 'afull': 11.689373427646196,\n",
       " 'afv': 11.689373427646196,\n",
       " 'ag': 10.99622624708625,\n",
       " 'agaib': 11.689373427646196,\n",
       " 'againall': 11.689373427646196,\n",
       " 'againand': 11.689373427646196,\n",
       " 'againblack': 11.689373427646196,\n",
       " 'againgst': 11.689373427646196,\n",
       " 'againit': 11.689373427646196,\n",
       " 'againknowing': 11.689373427646196,\n",
       " 'againnow': 11.689373427646196,\n",
       " 'againon': 11.689373427646196,\n",
       " 'againwatermelon': 11.689373427646196,\n",
       " 'agaist': 11.689373427646196,\n",
       " 'aganin': 11.689373427646196,\n",
       " 'aganist': 11.689373427646196,\n",
       " 'agar': 10.436610459150828,\n",
       " 'agata': 11.689373427646196,\n",
       " 'agatha': 11.283908319538032,\n",
       " 'agava': 11.283908319538032,\n",
       " 'agave': 6.773048813021181,\n",
       " 'agavy': 11.689373427646196,\n",
       " 'age': 6.516052551272844,\n",
       " 'aged': 7.951703809362828,\n",
       " 'agee': 11.689373427646196,\n",
       " 'ageing': 11.283908319538032,\n",
       " 'ageless': 11.689373427646196,\n",
       " 'agen': 11.689373427646196,\n",
       " 'agencies': 10.99622624708625,\n",
       " 'agency': 10.185296030869921,\n",
       " 'agenda': 10.99622624708625,\n",
       " 'agendas': 11.689373427646196,\n",
       " 'agent': 8.575858118435821,\n",
       " 'agentina': 11.689373427646196,\n",
       " 'agents': 9.015224778219666,\n",
       " 'ager': 11.689373427646196,\n",
       " 'ages': 7.48468080825523,\n",
       " 'agey': 11.283908319538032,\n",
       " 'aggervated': 11.689373427646196,\n",
       " 'agghhhhhh': 11.689373427646196,\n",
       " 'aggie': 11.689373427646196,\n",
       " 'agglomeration': 11.689373427646196,\n",
       " 'aggravate': 9.897613958418141,\n",
       " 'aggravated': 10.303079066526305,\n",
       " 'aggravating': 10.185296030869921,\n",
       " 'aggravation': 10.185296030869921,\n",
       " 'aggreavate': 11.689373427646196,\n",
       " 'aggresive': 11.689373427646196,\n",
       " 'aggression': 11.283908319538032,\n",
       " 'aggressive': 8.208133338310503,\n",
       " 'aggressively': 10.303079066526305,\n",
       " 'aggresstive': 11.689373427646196,\n",
       " 'aggrevate': 11.689373427646196,\n",
       " 'aggrevated': 11.689373427646196,\n",
       " 'aggrevates': 11.689373427646196,\n",
       " 'aggrevation': 11.283908319538032,\n",
       " 'aggrieved': 11.689373427646196,\n",
       " 'aggs': 11.689373427646196,\n",
       " 'agh': 11.689373427646196,\n",
       " 'aghast': 11.283908319538032,\n",
       " 'aghhh': 11.689373427646196,\n",
       " 'agian': 11.689373427646196,\n",
       " 'agile': 10.773082695772041,\n",
       " 'agility': 9.549307264149926,\n",
       " 'agin': 10.99622624708625,\n",
       " 'agine': 11.689373427646196,\n",
       " 'aging': 8.470497602777996,\n",
       " 'agitate': 10.773082695772041,\n",
       " 'agitated': 11.689373427646196,\n",
       " 'agitating': 10.773082695772041,\n",
       " 'agitation': 10.99622624708625,\n",
       " 'aglio': 11.689373427646196,\n",
       " 'aglut': 11.689373427646196,\n",
       " 'agni': 11.689373427646196,\n",
       " 'ago': 4.7361668857601416,\n",
       " 'agoe': 11.689373427646196,\n",
       " 'agonies': 11.689373427646196,\n",
       " 'agonized': 11.283908319538032,\n",
       " 'agonizing': 10.99622624708625,\n",
       " 'agony': 10.773082695772041,\n",
       " 'agood': 10.99622624708625,\n",
       " 'agoraphobic': 11.689373427646196,\n",
       " 'agostino': 11.283908319538032,\n",
       " 'agotamiento': 11.689373427646196,\n",
       " 'agra': 11.283908319538032,\n",
       " 'agradecida': 11.689373427646196,\n",
       " 'agras': 11.689373427646196,\n",
       " 'agree': 5.831440273162737,\n",
       " 'agreeable': 9.817571250744605,\n",
       " 'agreeably': 11.689373427646196,\n",
       " 'agreed': 7.5867300626094,\n",
       " 'agreeded': 11.689373427646196,\n",
       " 'agreedthat': 11.689373427646196,\n",
       " 'agreeing': 10.303079066526305,\n",
       " 'agreement': 9.897613958418141,\n",
       " 'agreements': 11.689373427646196,\n",
       " 'agreen': 11.689373427646196,\n",
       " 'agrees': 8.25538622316105,\n",
       " 'agressive': 10.590761138978086,\n",
       " 'agri': 11.689373427646196,\n",
       " 'agricultural': 10.590761138978086,\n",
       " 'agriculture': 9.897613958418141,\n",
       " 'agrievated': 11.689373427646196,\n",
       " 'agro': 11.283908319538032,\n",
       " 'agrodolce': 11.689373427646196,\n",
       " 'agrre': 11.689373427646196,\n",
       " 'agrumato': 11.689373427646196,\n",
       " 'agrumento': 11.689373427646196,\n",
       " 'agua': 10.99622624708625,\n",
       " 'aguadito': 11.689373427646196,\n",
       " 'aguantan': 11.689373427646196,\n",
       " 'aguave': 11.283908319538032,\n",
       " 'agway': 11.283908319538032,\n",
       " 'ah': 8.916784705406414,\n",
       " 'aha': 10.99622624708625,\n",
       " 'ahalf': 11.689373427646196,\n",
       " 'ahbl': 11.689373427646196,\n",
       " 'ahd': 11.283908319538032,\n",
       " 'ahead': 6.595623226839433,\n",
       " 'ahem': 10.303079066526305,\n",
       " 'ahh': 10.436610459150828,\n",
       " 'ahhh': 9.38678833465215,\n",
       " 'ahhhaahhh': 11.689373427646196,\n",
       " 'ahhhh': 10.773082695772041,\n",
       " 'ahhhhh': 10.590761138978086,\n",
       " 'ahhhhhh': 11.689373427646196,\n",
       " 'ahhhhhhamazon': 11.689373427646196,\n",
       " 'ahhhhhhhh': 11.689373427646196,\n",
       " 'ahhhhhhhhhhhhh': 11.689373427646196,\n",
       " 'ahhhhhhhhhhhhhh': 11.689373427646196,\n",
       " 'ahhhing': 11.689373427646196,\n",
       " 'ahi': 11.689373427646196,\n",
       " 'ahing': 11.689373427646196,\n",
       " 'ahmad': 8.827172546716728,\n",
       " 'ahmed': 11.689373427646196,\n",
       " 'ahold': 10.185296030869921,\n",
       " 'aholic': 10.185296030869921,\n",
       " 'ahora': 11.283908319538032,\n",
       " 'ahoy': 8.948533403720994,\n",
       " 'ahpso': 11.689373427646196,\n",
       " 'ahrd': 11.689373427646196,\n",
       " 'ahs': 11.689373427646196,\n",
       " 'ahve': 11.283908319538032,\n",
       " 'ai': 8.412228694654019,\n",
       " 'aid': 7.229229013708362,\n",
       " 'aide': 9.897613958418141,\n",
       " ...}"
      ]
     },
     "execution_count": 34,
     "metadata": {},
     "output_type": "execute_result"
    }
   ],
   "source": [
    "dictinory"
   ]
  },
  {
   "cell_type": "code",
   "execution_count": 35,
   "metadata": {
    "collapsed": true,
    "jupyter": {
     "outputs_hidden": true
    }
   },
   "outputs": [
    {
     "name": "stdout",
     "output_type": "stream",
     "text": [
      "  (0, 23695)\t0.2950177204198278\n",
      "  (0, 20359)\t0.13411764425385192\n",
      "  (0, 26427)\t0.11931008811572558\n",
      "  (0, 49151)\t0.22400507809164236\n",
      "  (0, 7825)\t0.2640853510775426\n",
      "  (0, 47616)\t0.13393295908952257\n",
      "  (0, 20415)\t0.0741261374886011\n",
      "  (0, 3439)\t0.13111415923325562\n",
      "  (0, 25021)\t0.2548646855823356\n",
      "  (0, 33355)\t0.08014045611923631\n",
      "  (0, 51579)\t0.20282501459171162\n",
      "  (0, 28480)\t0.11405334651389493\n",
      "  (0, 37682)\t0.130675472031098\n",
      "  (0, 17712)\t0.10257704830537542\n",
      "  (0, 21746)\t0.12976177023218946\n",
      "  (0, 2157)\t0.18167958655284083\n",
      "  (0, 6468)\t0.13010233600626234\n",
      "  (0, 53898)\t0.44460564835590954\n",
      "  (0, 8332)\t0.3982671789562779\n",
      "  (0, 37658)\t0.17012099814920367\n",
      "  (0, 8238)\t0.28704221667627905\n",
      "  (0, 28143)\t0.1224055204256479\n",
      "  (0, 14157)\t0.13302516648906876\n",
      "  (1, 41485)\t0.30996591473784346\n",
      "  (1, 41852)\t0.29243926236296186\n",
      "  :\t:\n",
      "  (87771, 5449)\t0.17664746444880977\n",
      "  (87771, 47064)\t0.13181287330921618\n",
      "  (87771, 33241)\t0.1318432171878576\n",
      "  (87771, 32377)\t0.21122132753354936\n",
      "  (87771, 52848)\t0.17860085538956375\n",
      "  (87771, 20415)\t0.07607154671605693\n",
      "  (87772, 49338)\t0.3696913567923414\n",
      "  (87772, 32806)\t0.3348529392617515\n",
      "  (87772, 49335)\t0.2823591460855355\n",
      "  (87772, 34017)\t0.2808897984692919\n",
      "  (87772, 26205)\t0.20242051959517737\n",
      "  (87772, 38562)\t0.20739849650154973\n",
      "  (87772, 39028)\t0.2454029046723887\n",
      "  (87772, 30133)\t0.31294366000830104\n",
      "  (87772, 14977)\t0.14562839212323472\n",
      "  (87772, 14969)\t0.16921844522929247\n",
      "  (87772, 29401)\t0.20624881026508127\n",
      "  (87772, 38233)\t0.18547520677944884\n",
      "  (87772, 27841)\t0.17621672399994578\n",
      "  (87772, 46377)\t0.29433822917400665\n",
      "  (87772, 39305)\t0.15564391319535445\n",
      "  (87772, 38356)\t0.17436576038201976\n",
      "  (87772, 46147)\t0.15731537458833378\n",
      "  (87772, 28123)\t0.11588756241293235\n",
      "  (87772, 37658)\t0.11469768221958898\n"
     ]
    }
   ],
   "source": [
    "print(tf_idf_matrix)"
   ]
  },
  {
   "cell_type": "code",
   "execution_count": 36,
   "metadata": {},
   "outputs": [
    {
     "name": "stderr",
     "output_type": "stream",
     "text": [
      "100%|██████████| 87773/87773 [1:31:50<00:00, 15.93it/s]  \n"
     ]
    }
   ],
   "source": [
    "# Tf-IDF weighted word2vec\n",
    "tfidf_feat = model.get_feature_names() # tfidf words/col-names\n",
    "# final_tf_idf is the sparse metrix with row = sentence, col = words and cell_val = tfidf\n",
    "tfidf_sent_vectors = [] # the tfidf-w2v for each sentence/review is stored in this list\n",
    "row = 0\n",
    "for sent in tqdm(list_of_sentance): # for each review/sentence\n",
    "    sent_vec = np.zeros(50) # as word vectors are of zero length\n",
    "    weight_sum = 0 # num of words with a valid vector in the sentence/review\n",
    "    for word in sent: # for each word in a review/ sentence\n",
    "        if word in w2v_words and word in tfidf_feat:\n",
    "            vec = w2v_model.wv[word]\n",
    "            # tf_idf = tf_idf_matrix[row, tfidf_feat.index(word)]\n",
    "            # to reduce the computation we are \n",
    "            # dictionary[word] = idf value of word in whole courpus\n",
    "            # sent.count(word) = tf valeus of word in this review\n",
    "            tf_idf = dictinory[word]*(sent.count(word)/len(sent))\n",
    "            sent_vec += (vec * tf_idf)\n",
    "            weight_sum += tf_idf\n",
    "    if weight_sum != 0:\n",
    "        sent_vec /= weight_sum\n",
    "    tfidf_sent_vectors.append(sent_vec)\n",
    "    row += 1"
   ]
  },
  {
   "cell_type": "markdown",
   "metadata": {},
   "source": [
    "## [5.1] Applying KNN brute force\n"
   ]
  },
  {
   "cell_type": "markdown",
   "metadata": {},
   "source": [
    "### [5.1.1] Applying KNN brute force on BOW"
   ]
  },
  {
   "cell_type": "code",
   "execution_count": 55,
   "metadata": {},
   "outputs": [],
   "source": [
    "# Import libraries\n",
    "from collections import Counter\n",
    "from sklearn.model_selection import train_test_split\n",
    "from sklearn.neighbors import KNeighborsClassifier\n",
    "from sklearn.metrics import accuracy_score\n",
    "from sklearn.metrics import roc_auc_score\n",
    "from sklearn.model_selection import cross_val_score\n",
    "from sklearn.metrics import confusion_matrix"
   ]
  },
  {
   "cell_type": "code",
   "execution_count": 26,
   "metadata": {},
   "outputs": [
    {
     "name": "stderr",
     "output_type": "stream",
     "text": [
      "100%|██████████| 13/13 [26:59<00:00, 124.60s/it]\n"
     ]
    },
    {
     "data": {
      "image/png": "[encoded data removed]",
      "text/plain": [
       "<Figure size 432x288 with 1 Axes>"
      ]
     },
     "metadata": {
      "needs_background": "light"
     },
     "output_type": "display_data"
    }
   ],
   "source": [
    "# Importing the data\n",
    "X = preprocessed_reviews\n",
    "y = np.array(final['Score'])\n",
    "\n",
    "# Spliting the data into train,CV, test \n",
    "X_1, X_test, y_1, y_test = train_test_split(X, y, test_size=0.3, random_state=0)\n",
    "X_tr, X_cv, y_tr, y_cv = train_test_split(X_1, y_1, test_size=0.3)\n",
    "# CountVectorizer for train, CV, test data\n",
    "count_vect = CountVectorizer()\n",
    "final_Xtr = count_vect.fit_transform(X_tr) # We use fit_transform() for train and transform() for test and cv\n",
    "final_Xcv = count_vect.transform(X_cv)\n",
    "final_Xtest = count_vect.transform(X_test)\n",
    "\n",
    "# Implementation \n",
    "auc_train = []\n",
    "auc_cv = []\n",
    "K = list(range(1,50,4))\n",
    "\n",
    "for i in tqdm(K):\n",
    "    knn = KNeighborsClassifier(n_neighbors = i, weights = 'uniform',algorithm = 'brute',leaf_size = 30, p = 2, metric = 'cosine')\n",
    "    knn.fit(final_Xtr,y_tr)\n",
    "    \n",
    "    pred_tr = knn.predict_proba(final_Xtr)[:,1]\n",
    "    auc_train.append(roc_auc_score(y_tr,pred_tr))\n",
    "    \n",
    "    pred_cv = knn.predict_proba(final_Xcv)[:,1]\n",
    "    auc_cv.append(roc_auc_score(y_cv,pred_cv))\n",
    "\n",
    "# Graph between AUC V/s K\n",
    "fig = plt.figure()\n",
    "ax = plt.subplot(111)\n",
    "\n",
    "ax.plot(K,auc_train, label = 'AUC Train')\n",
    "ax.plot(K,auc_cv, label = 'AUC CV')\n",
    "\n",
    "plt.title('AUC V/s K')\n",
    "plt.xlabel('K')\n",
    "plt.ylabel('AUC')\n",
    "\n",
    "plt.legend()\n",
    "plt.show()\n",
    "\n",
    "    \n",
    "\n"
   ]
  },
  {
   "cell_type": "code",
   "execution_count": 27,
   "metadata": {},
   "outputs": [
    {
     "data": {
      "text/plain": [
       "[0.6687328422112668,\n",
       " 0.7819664457290837,\n",
       " 0.8092525981723624,\n",
       " 0.8212833919229714,\n",
       " 0.8263868264805181,\n",
       " 0.8300161553427187,\n",
       " 0.8315883652832945,\n",
       " 0.8337156262642682,\n",
       " 0.8340511724948403,\n",
       " 0.834790107095282,\n",
       " 0.8359852732047518,\n",
       " 0.8371830803707393,\n",
       " 0.8382083825285133]"
      ]
     },
     "execution_count": 27,
     "metadata": {},
     "output_type": "execute_result"
    }
   ],
   "source": [
    "auc_cv"
   ]
  },
  {
   "cell_type": "code",
   "execution_count": 30,
   "metadata": {},
   "outputs": [
    {
     "data": {
      "image/png": "[encoded data removed]",
      "text/plain": [
       "<Figure size 432x288 with 1 Axes>"
      ]
     },
     "metadata": {
      "needs_background": "light"
     },
     "output_type": "display_data"
    }
   ],
   "source": [
    "# ROC Curve for K = 30 seens best hyperparameter\n",
    "knn = KNeighborsClassifier(n_neighbors = 30, weights = 'uniform', algorithm = 'brute', leaf_size = 30, p = 2, metric = 'cosine')\n",
    "knn.fit(final_Xtr,y_tr)\n",
    "\n",
    "pred_tr = knn.predict_proba(final_Xtr)[:,1]\n",
    "fpr_tr,tpr_tr,thresholds_tr = metrics.roc_curve(y_tr,pred_tr)\n",
    "\n",
    "pred_test = knn.predict_proba(final_Xtest)[:,1]\n",
    "fpr_test,tpr_test,thresholds_test = metrics.roc_curve(y_test,pred_test)\n",
    "\n",
    "# Plot the Graph between TPR AND FPR\n",
    "fig = plt.figure()\n",
    "ax = plt.subplot()\n",
    "ax.plot(fpr_tr,tpr_tr,label = 'Train ROC , auc = '+str(roc_auc_score(y_tr,pred_tr)))\n",
    "ax.plot(fpr_test,tpr_test,label = 'Test ROC , auc = '+str(roc_auc_score(y_test,pred_test)))\n",
    "\n",
    "plt.title('ROC')\n",
    "plt.xlabel('FPR')\n",
    "plt.ylabel('TPR')\n",
    "\n",
    "ax.legend()\n",
    "plt.show()"
   ]
  },
  {
   "cell_type": "code",
   "execution_count": 29,
   "metadata": {},
   "outputs": [
    {
     "data": {
      "image/png": "[encoded data removed]",
      "text/plain": [
       "<Figure size 432x288 with 2 Axes>"
      ]
     },
     "metadata": {
      "needs_background": "light"
     },
     "output_type": "display_data"
    }
   ],
   "source": [
    "# Confusion Metrix\n",
    "knn = KNeighborsClassifier(n_neighbors = 30, weights = 'uniform',algorithm = 'brute', leaf_size = 30,p = 2, metric = 'cosine')\n",
    "knn.fit(final_Xtr,y_tr)\n",
    "\n",
    "predict_test = knn.predict(final_Xtest)\n",
    "\n",
    "conf_mat = confusion_matrix(y_test, predict_test)\n",
    "class_label = [\"Negative\", \"Positive\"]\n",
    "\n",
    "df = pd.DataFrame(conf_mat, index = class_label, columns = class_label)\n",
    "\n",
    "sns.heatmap(df,annot = True, fmt = \"d\")\n",
    "plt.title(\"Confusion Matrix\")\n",
    "plt.xlabel(\"Predicted Label\")\n",
    "plt.ylabel(\"True Label\")\n",
    "plt.show()\n"
   ]
  },
  {
   "cell_type": "markdown",
   "metadata": {},
   "source": [
    "### [5.1.2] Applying KNN brute force on TFIDF"
   ]
  },
  {
   "cell_type": "code",
   "execution_count": 30,
   "metadata": {},
   "outputs": [
    {
     "name": "stderr",
     "output_type": "stream",
     "text": [
      "100%|██████████| 13/13 [31:40<00:00, 146.21s/it]\n"
     ]
    },
    {
     "data": {
      "image/png": "[encoded data removed]",
      "text/plain": [
       "<Figure size 432x288 with 1 Axes>"
      ]
     },
     "metadata": {
      "needs_background": "light"
     },
     "output_type": "display_data"
    }
   ],
   "source": [
    "# Preparing the data\n",
    "X = preprocessed_reviews\n",
    "y = np.array(final['Score'])\n",
    "\n",
    "# Spliting the data into train, cv and test\n",
    "X_1, X_test, y_1, y_test = train_test_split(X,y, test_size = .3,random_state = 0)\n",
    "X_tr, X_cv, y_tr, y_cv = train_test_split(X_1,y_1, test_size = 0.3)\n",
    "\n",
    "# Tfidf\n",
    "tf_idf_vect = TfidfVectorizer(ngram_range = (1,2), min_df = 10)\n",
    "\n",
    "final_Xtr = tf_idf_vect.fit_transform(X_tr)\n",
    "final_Xcv = tf_idf_vect.transform(X_cv)\n",
    "final_Xtest = tf_idf_vect.transform(X_test)\n",
    "\n",
    "# KNN\n",
    "auc_cv = []\n",
    "auc_train = []\n",
    "K = list(range(1,50,4))\n",
    "\n",
    "for i in tqdm(K):\n",
    "    knn = KNeighborsClassifier(n_neighbors = i, weights = 'uniform', algorithm = 'brute',leaf_size = 30,p = 2, metric = 'cosine')\n",
    "    knn.fit(final_Xtr, y_tr)\n",
    "    \n",
    "    pred_tr = knn.predict_proba(final_Xtr)[:,1]\n",
    "    auc_train.append(roc_auc_score(y_tr, pred_tr))\n",
    "    \n",
    "    pred_cv = knn.predict_proba(final_Xcv)[:,1]\n",
    "    auc_cv.append(roc_auc_score(y_cv, pred_cv))\n",
    "\n",
    "# Graph between AUC vs K\n",
    "fig = plt.figure()\n",
    "ax = plt.subplot(111)\n",
    "\n",
    "ax.plot(K, auc_train, label= 'AUC train')\n",
    "ax.plot(K, auc_cv, label = 'AUC CV')\n",
    "\n",
    "plt.title('AUC v/s K')\n",
    "plt.xlabel('K')\n",
    "plt.ylabel('AUC')\n",
    "\n",
    "ax.legend()\n",
    "plt.show()"
   ]
  },
  {
   "cell_type": "code",
   "execution_count": 31,
   "metadata": {},
   "outputs": [
    {
     "data": {
      "text/plain": [
       "[0.643406966864911,\n",
       " 0.7613796203324665,\n",
       " 0.8002108060211288,\n",
       " 0.8210522064313484,\n",
       " 0.8322152708049054,\n",
       " 0.840979023454597,\n",
       " 0.8476675849403121,\n",
       " 0.8526734206980596,\n",
       " 0.8602587042901402,\n",
       " 0.8631443255837903,\n",
       " 0.8660602842357303,\n",
       " 0.8686114329359869,\n",
       " 0.8703135968864516]"
      ]
     },
     "execution_count": 31,
     "metadata": {},
     "output_type": "execute_result"
    }
   ],
   "source": [
    "auc_cv"
   ]
  },
  {
   "cell_type": "code",
   "execution_count": 42,
   "metadata": {},
   "outputs": [
    {
     "data": {
      "image/png": "[encoded data removed]",
      "text/plain": [
       "<Figure size 432x288 with 1 Axes>"
      ]
     },
     "metadata": {
      "needs_background": "light"
     },
     "output_type": "display_data"
    }
   ],
   "source": [
    "# ROC curve for K = 49 seen best hyperparameter\n",
    "knn = KNeighborsClassifier(n_neighbors = 49, weights = 'uniform', algorithm = 'brute', leaf_size = 30, p = 2, metric = 'cosine')\n",
    "knn.fit(final_Xtr, y_tr)\n",
    "\n",
    "pred_tr = knn.predict_proba(final_Xtr)[:,1]\n",
    "fpr_tr, tpr_tr, thresholds_tr = metrics.roc_curve(y_tr, pred_tr)\n",
    "\n",
    "pred_test = knn.predict_proba(final_Xtest)[:,1]\n",
    "fpr_test, tpr_test, thresholds_test = metrics.roc_curve(y_test, pred_test)\n",
    "\n",
    "# Graph between TPR AND FPR\n",
    "fig = plt.figure()\n",
    "ax = plt.subplot(111)\n",
    "\n",
    "ax.plot(fpr_tr, tpr_tr,label = 'Train ROC, auc = '+str(roc_auc_score(y_tr, pred_tr)))\n",
    "ax.plot(fpr_test, tpr_test,label = 'Test ROC, auc = '+str(roc_auc_score(y_test, pred_test)))\n",
    "\n",
    "plt.title(\"ROC\")\n",
    "plt.xlabel(\"FPR\")\n",
    "plt.ylabel(\"TPR\")\n",
    "\n",
    "ax.legend()\n",
    "plt.show()"
   ]
  },
  {
   "cell_type": "code",
   "execution_count": 43,
   "metadata": {},
   "outputs": [
    {
     "data": {
      "image/png": "[encoded data removed]",
      "text/plain": [
       "<Figure size 432x288 with 2 Axes>"
      ]
     },
     "metadata": {
      "needs_background": "light"
     },
     "output_type": "display_data"
    }
   ],
   "source": [
    "# Confusion matrix\n",
    "knn = KNeighborsClassifier(n_neighbors = 49, weights = 'uniform', algorithm = 'brute', leaf_size = 30, p = 2, metric = 'cosine')\n",
    "knn.fit(final_Xtr, y_tr)\n",
    "\n",
    "predict_test = knn.predict(final_Xtest)\n",
    "\n",
    "conf_mat = confusion_matrix(y_test, predict_test)\n",
    "class_label = [\"Negative\", \"Positive\"]\n",
    "df = pd.DataFrame(conf_mat, index = class_label, columns = class_label)\n",
    "\n",
    "sns.heatmap(df, annot = True, fmt = \"d\")\n",
    "\n",
    "plt.title(\"Confusion Matrix\")\n",
    "plt.xlabel(\"Predicted Label\")\n",
    "plt.ylabel(\"True label\")\n",
    "plt.show()"
   ]
  },
  {
   "cell_type": "markdown",
   "metadata": {},
   "source": [
    "### [5.1.3] Applying KNN brute force on AVG W2V"
   ]
  },
  {
   "cell_type": "code",
   "execution_count": 32,
   "metadata": {},
   "outputs": [
    {
     "name": "stderr",
     "output_type": "stream",
     "text": [
      "100%|██████████| 43008/43008 [02:12<00:00, 324.17it/s]\n",
      "  0%|          | 75/18433 [00:00<01:21, 226.25it/s]"
     ]
    },
    {
     "name": "stdout",
     "output_type": "stream",
     "text": [
      "43008\n",
      "50\n"
     ]
    },
    {
     "name": "stderr",
     "output_type": "stream",
     "text": [
      "100%|██████████| 18433/18433 [00:59<00:00, 309.28it/s]\n",
      "  0%|          | 0/26332 [00:00<?, ?it/s]"
     ]
    },
    {
     "name": "stdout",
     "output_type": "stream",
     "text": [
      "18433\n",
      "50\n"
     ]
    },
    {
     "name": "stderr",
     "output_type": "stream",
     "text": [
      "100%|██████████| 26332/26332 [01:29<00:00, 293.56it/s]"
     ]
    },
    {
     "name": "stdout",
     "output_type": "stream",
     "text": [
      "26332\n",
      "50\n"
     ]
    },
    {
     "name": "stderr",
     "output_type": "stream",
     "text": [
      "\n"
     ]
    }
   ],
   "source": [
    "# Preparing the data\n",
    "X = preprocessed_reviews\n",
    "y = np.array(final['Score'])\n",
    "\n",
    "# Spliting the data into Train, CV and Test\n",
    "X_1, X_test, y_1, y_test = train_test_split(X,y, test_size = 0.3, random_state = 0)\n",
    "X_tr, X_cv, y_tr, y_cv = train_test_split(X_1, y_1, test_size = 0.3)\n",
    "\n",
    "# Word2Vec\n",
    "\n",
    "list_of_sentance_tr = []\n",
    "\n",
    "for sentance in X_tr:\n",
    "    list_of_sentance_tr.append(sentance.split())\n",
    "w2v_model = Word2Vec(list_of_sentance_tr, min_count = 5, size = 50, workers = 4)\n",
    "w2v_words = list(w2v_model.wv.vocab)\n",
    "\n",
    "\n",
    "def word2Vec(X):\n",
    "    list_of_sentance = []\n",
    "    \n",
    "    for sentance in X:\n",
    "        list_of_sentance.append(sentance.split())\n",
    "    \n",
    "    sent_vectors = []\n",
    "    \n",
    "    for sent in tqdm(list_of_sentance):\n",
    "        sent_vec = np.zeros(50)\n",
    "        cnt_words = 0\n",
    "        \n",
    "        for word in sent:\n",
    "            if word in w2v_words:\n",
    "                vec = w2v_model.wv[word]\n",
    "                sent_vec += vec\n",
    "                cnt_words += 1\n",
    "        \n",
    "        if cnt_words != 0:\n",
    "            sent_vec /= cnt_words\n",
    "        \n",
    "        sent_vectors.append(sent_vec)\n",
    "    \n",
    "    print(len(sent_vectors))\n",
    "    print(len(sent_vectors[0]))\n",
    "    \n",
    "    return sent_vectors\n",
    "\n",
    "final_Xtr = word2Vec(X_tr)    \n",
    "final_Xcv = word2Vec(X_cv)    \n",
    "final_Xtest = word2Vec(X_test)    "
   ]
  },
  {
   "cell_type": "code",
   "execution_count": 45,
   "metadata": {},
   "outputs": [
    {
     "data": {
      "image/png": "[encoded data removed]",
      "text/plain": [
       "<Figure size 432x288 with 1 Axes>"
      ]
     },
     "metadata": {
      "needs_background": "light"
     },
     "output_type": "display_data"
    }
   ],
   "source": [
    "# KNN\n",
    "auc_train = []\n",
    "auc_cv = []\n",
    "K = list(range(1,50,4))\n",
    "\n",
    "for i in tqdm(K):\n",
    "    knn = KNeighborsClassifier(n_neighbors = i, weights = 'uniform', algorithm = 'brute', leaf_size = 30, p = 2,metric = 'cosine')\n",
    "    knn.fit(final_Xtr,y_tr)\n",
    "    \n",
    "    pred_tr = knn.predict_proba(final_Xtr)[:,1]\n",
    "    auc_train.append(roc_auc_score(y_tr,pred_tr))\n",
    "    \n",
    "    pred_cv = knn.predict_proba(final_Xcv)[:,1]\n",
    "    auc_cv.append(roc_auc_score(y_cv,pred_cv))\n",
    "    \n",
    "\n",
    "# Graph between AUC v/s K\n",
    "fig = plt.figure()\n",
    "ax = plt.subplot(111)\n",
    "\n",
    "ax.plot(K,auc_train, label = \"AUC train\")\n",
    "ax.plot(K,auc_cv, label = \"AUC CV\")\n",
    "\n",
    "plt.title('AUC vs K')\n",
    "plt.xlabel('K')\n",
    "plt.ylabel('AUC')\n",
    "\n",
    "ax.legend()\n",
    "plt.show()\n",
    "    "
   ]
  },
  {
   "cell_type": "code",
   "execution_count": 33,
   "metadata": {},
   "outputs": [
    {
     "data": {
      "image/png": "[encoded data removed]",
      "text/plain": [
       "<Figure size 432x288 with 1 Axes>"
      ]
     },
     "metadata": {
      "needs_background": "light"
     },
     "output_type": "display_data"
    }
   ],
   "source": [
    "# ROC curve for K = 30 seen best hyperparameter\n",
    "knn = KNeighborsClassifier(n_neighbors = 30, weights = 'uniform', algorithm = 'brute', leaf_size = 30, p = 2, metric = 'cosine')\n",
    "knn.fit(final_Xtr, y_tr)\n",
    "\n",
    "pred_tr = knn.predict_proba(final_Xtr)[:,1]\n",
    "fpr_tr, tpr_tr, thresholds_tr = metrics.roc_curve(y_tr, pred_tr)\n",
    "\n",
    "pred_test = knn.predict_proba(final_Xtest)[:,1]\n",
    "fpr_test, tpr_test, thresholds_test = metrics.roc_curve(y_test, pred_test)\n",
    "\n",
    "# Graph between TPR AND FPR\n",
    "fig = plt.figure()\n",
    "ax = plt.subplot(111)\n",
    "\n",
    "ax.plot(fpr_tr, tpr_tr,label = 'Train ROC, auc = '+str(roc_auc_score(y_tr, pred_tr)))\n",
    "ax.plot(fpr_test, tpr_test,label = 'Test ROC, auc = '+str(roc_auc_score(y_test, pred_test)))\n",
    "\n",
    "plt.title(\"ROC\")\n",
    "plt.xlabel(\"FPR\")\n",
    "plt.ylabel(\"TPR\")\n",
    "\n",
    "ax.legend()\n",
    "plt.show()"
   ]
  },
  {
   "cell_type": "code",
   "execution_count": 47,
   "metadata": {},
   "outputs": [
    {
     "data": {
      "image/png": "[encoded data removed]",
      "text/plain": [
       "<Figure size 432x288 with 2 Axes>"
      ]
     },
     "metadata": {
      "needs_background": "light"
     },
     "output_type": "display_data"
    }
   ],
   "source": [
    "# Confusion Matrix\n",
    "knn = KNeighborsClassifier(n_neighbors = 30, weights = 'uniform', algorithm = 'brute', leaf_size = 30, p = 2, metric = 'cosine')\n",
    "knn.fit(final_Xtr, y_tr)\n",
    "\n",
    "predict_test = knn.predict(final_Xtest)\n",
    "\n",
    "conf_mat = confusion_matrix(y_test, predict_test)\n",
    "class_label = [\"Negative\", \"Positive\"]\n",
    "df = pd.DataFrame(conf_mat, index = class_label, columns = class_label)\n",
    "\n",
    "sns.heatmap(df, annot = True, fmt = \"d\")\n",
    "\n",
    "plt.title(\"Confusion Matrix\")\n",
    "plt.xlabel(\"Predicted Label\")\n",
    "plt.ylabel(\"True label\")\n",
    "plt.show()"
   ]
  },
  {
   "cell_type": "markdown",
   "metadata": {},
   "source": [
    "### [5.1.4] Applying KNN brute force on TFIDF W2V"
   ]
  },
  {
   "cell_type": "code",
   "execution_count": 34,
   "metadata": {},
   "outputs": [
    {
     "name": "stderr",
     "output_type": "stream",
     "text": [
      "100%|██████████| 43008/43008 [02:21<00:00, 303.16it/s]\n",
      "  0%|          | 70/18433 [00:00<00:53, 343.72it/s]"
     ]
    },
    {
     "name": "stdout",
     "output_type": "stream",
     "text": [
      "43008\n",
      "50\n"
     ]
    },
    {
     "name": "stderr",
     "output_type": "stream",
     "text": [
      "100%|██████████| 18433/18433 [01:01<00:00, 300.23it/s]\n"
     ]
    },
    {
     "name": "stdout",
     "output_type": "stream",
     "text": [
      "18433\n",
      "50\n"
     ]
    },
    {
     "name": "stderr",
     "output_type": "stream",
     "text": [
      "100%|██████████| 26332/26332 [01:20<00:00, 328.87it/s]"
     ]
    },
    {
     "name": "stdout",
     "output_type": "stream",
     "text": [
      "26332\n",
      "50\n"
     ]
    },
    {
     "name": "stderr",
     "output_type": "stream",
     "text": [
      "\n"
     ]
    }
   ],
   "source": [
    "# Preparing the data\n",
    "X = preprocessed_reviews\n",
    "y = np.array(final['Score'])\n",
    "\n",
    "# Spliting the data\n",
    "X_1, X_test, y_1, y_test = train_test_split(X,y, test_size = 0.3, random_state = 0)\n",
    "X_tr, X_cv, y_tr,y_cv = train_test_split(X_1,y_1, test_size = 0.3)\n",
    "\n",
    "\n",
    "list_of_sentance_train = []\n",
    "for sentance in X_tr:\n",
    "    list_of_sentance_train.append(sentance.split())\n",
    "\n",
    "w2v_model  = Word2Vec(list_of_sentance_train, min_count = 5, size = 50, workers = 4)\n",
    "w2v_words = list(w2v_model.wv.vocab)\n",
    "\n",
    "tf_idf_vect = TfidfVectorizer(ngram_range = (1,2), min_df = 10, max_features = 500)\n",
    "tf_idf_matrix = tf_idf_vect.fit_transform(X_tr)\n",
    "\n",
    "tfidf_feat = tf_idf_vect.get_feature_names()\n",
    "dictionary = dict(zip(tf_idf_vect.get_feature_names(), list(tf_idf_vect.idf_)))\n",
    "\n",
    "# TFIDF W2V Function\n",
    "def tfidf_W2V(X):\n",
    "    list_of_sentance = []\n",
    "    \n",
    "    for sentance in X:\n",
    "        list_of_sentance.append(sentance.split())\n",
    "    \n",
    "    tfidf_sent_vectors = []\n",
    "    row = 0\n",
    "    \n",
    "    for sent in tqdm(list_of_sentance):\n",
    "        sent_vec = np.zeros(50)\n",
    "        weight_sum = 0\n",
    "        \n",
    "        for word in sent:\n",
    "            if word in w2v_words and word in tfidf_feat:\n",
    "                vec = w2v_model.wv[word]\n",
    "                tf_idf = dictionary[word]*(sent.count(word)/len(sent))\n",
    "                sent_vec += (vec * tf_idf)\n",
    "                weight_sum  += tf_idf\n",
    "        \n",
    "        if weight_sum != 0:\n",
    "            sent_vec /= weight_sum\n",
    "        \n",
    "        tfidf_sent_vectors.append(sent_vec)\n",
    "        row +=1\n",
    "    print(len(tfidf_sent_vectors))\n",
    "    print(len(tfidf_sent_vectors[0]))\n",
    "    \n",
    "    return tfidf_sent_vectors\n",
    "\n",
    "final_Xtr = tfidf_W2V(X_tr)\n",
    "final_Xcv = tfidf_W2V(X_cv)\n",
    "final_Xtest = tfidf_W2V(X_test)"
   ]
  },
  {
   "cell_type": "code",
   "execution_count": 49,
   "metadata": {},
   "outputs": [
    {
     "name": "stderr",
     "output_type": "stream",
     "text": [
      "100%|██████████| 13/13 [12:53<00:00, 59.51s/it]\n"
     ]
    },
    {
     "data": {
      "image/png": "[encoded data removed]",
      "text/plain": [
       "<Figure size 432x288 with 1 Axes>"
      ]
     },
     "metadata": {
      "needs_background": "light"
     },
     "output_type": "display_data"
    }
   ],
   "source": [
    "# KNN\n",
    "auc_train = []\n",
    "auc_cv = []\n",
    "K = list(range(1,50,4))\n",
    "\n",
    "for i in tqdm(K):\n",
    "    knn = KNeighborsClassifier(n_neighbors = i, weights = 'uniform', algorithm = 'brute', leaf_size = 30, p = 2,metric = 'cosine')\n",
    "    knn.fit(final_Xtr,y_tr)\n",
    "    \n",
    "    pred_tr = knn.predict_proba(final_Xtr)[:,1]\n",
    "    auc_train.append(roc_auc_score(y_tr,pred_tr))\n",
    "    \n",
    "    pred_cv = knn.predict_proba(final_Xcv)[:,1]\n",
    "    auc_cv.append(roc_auc_score(y_cv,pred_cv))\n",
    "    \n",
    "\n",
    "# Graph between AUC v/s K\n",
    "fig = plt.figure()\n",
    "ax = plt.subplot(111)\n",
    "\n",
    "ax.plot(K,auc_train, label = \"AUC train\")\n",
    "ax.plot(K,auc_cv, label = \"AUC CV\")\n",
    "\n",
    "plt.title('AUC vs K')\n",
    "plt.xlabel('K')\n",
    "plt.ylabel('AUC')\n",
    "\n",
    "ax.legend()\n",
    "plt.show()\n",
    "    "
   ]
  },
  {
   "cell_type": "code",
   "execution_count": 35,
   "metadata": {},
   "outputs": [
    {
     "data": {
      "image/png": "[encoded data removed]",
      "text/plain": [
       "<Figure size 432x288 with 1 Axes>"
      ]
     },
     "metadata": {
      "needs_background": "light"
     },
     "output_type": "display_data"
    }
   ],
   "source": [
    "# ROC curve for K = 30 seen best hyperparameter\n",
    "knn = KNeighborsClassifier(n_neighbors = 30, weights = 'uniform', algorithm = 'brute', leaf_size = 30, p = 2, metric = 'cosine')\n",
    "knn.fit(final_Xtr, y_tr)\n",
    "\n",
    "pred_tr = knn.predict_proba(final_Xtr)[:,1]\n",
    "fpr_tr, tpr_tr, thresholds_tr = metrics.roc_curve(y_tr, pred_tr)\n",
    "\n",
    "pred_test = knn.predict_proba(final_Xtest)[:,1]\n",
    "fpr_test, tpr_test, thresholds_test = metrics.roc_curve(y_test, pred_test)\n",
    "\n",
    "# Graph between TPR AND FPR\n",
    "fig = plt.figure()\n",
    "ax = plt.subplot(111)\n",
    "\n",
    "ax.plot(fpr_tr, tpr_tr,label = 'Train ROC, auc = '+str(roc_auc_score(y_tr, pred_tr)))\n",
    "ax.plot(fpr_test, tpr_test,label = 'Test ROC, auc = '+str(roc_auc_score(y_test, pred_test)))\n",
    "\n",
    "plt.title(\"ROC\")\n",
    "plt.xlabel(\"FPR\")\n",
    "plt.ylabel(\"TPR\")\n",
    "\n",
    "ax.legend()\n",
    "plt.show()"
   ]
  },
  {
   "cell_type": "code",
   "execution_count": 36,
   "metadata": {},
   "outputs": [
    {
     "data": {
      "image/png": "[encoded data removed]",
      "text/plain": [
       "<Figure size 432x288 with 2 Axes>"
      ]
     },
     "metadata": {
      "needs_background": "light"
     },
     "output_type": "display_data"
    }
   ],
   "source": [
    "# Confusion Matrix\n",
    "knn = KNeighborsClassifier(n_neighbors = 30, weights = 'uniform', algorithm = 'brute', leaf_size = 30, p = 2, metric = 'cosine')\n",
    "knn.fit(final_Xtr, y_tr)\n",
    "\n",
    "predict_test = knn.predict(final_Xtest)\n",
    "\n",
    "conf_mat = confusion_matrix(y_test, predict_test)\n",
    "class_label = [\"Negative\", \"Positive\"]\n",
    "df = pd.DataFrame(conf_mat, index = class_label, columns = class_label)\n",
    "\n",
    "sns.heatmap(df, annot = True, fmt = \"d\")\n",
    "\n",
    "plt.title(\"Confusion Matrix\")\n",
    "plt.xlabel(\"Predicted Label\")\n",
    "plt.ylabel(\"True label\")\n",
    "plt.show()"
   ]
  },
  {
   "cell_type": "markdown",
   "metadata": {},
   "source": [
    "## [5.2] Applying KNN kd-tree"
   ]
  },
  {
   "cell_type": "markdown",
   "metadata": {},
   "source": [
    "### [5.2.1] Applying KNN kd-tree on BOW"
   ]
  },
  {
   "cell_type": "code",
   "execution_count": 52,
   "metadata": {},
   "outputs": [
    {
     "name": "stderr",
     "output_type": "stream",
     "text": [
      "100%|██████████| 13/13 [1:00:38<00:00, 279.88s/it]\n"
     ]
    },
    {
     "data": {
      "image/png": "[encoded data removed]",
      "text/plain": [
       "<Figure size 432x288 with 1 Axes>"
      ]
     },
     "metadata": {
      "needs_background": "light"
     },
     "output_type": "display_data"
    }
   ],
   "source": [
    "# Preparing the data\n",
    "X = preprocessed_reviews[:30000]\n",
    "y = np.array(final['Score'])[:30000]\n",
    "\n",
    "# Spliting the data\n",
    "X_1, X_test, y_1, y_test = train_test_split(X,y, test_size = 0.3, random_state = 0)\n",
    "X_tr, X_cv, y_tr,y_cv = train_test_split(X_1,y_1, test_size = 0.3)\n",
    "\n",
    "# Count Vectorizer for train, cv and test\n",
    "count_vect  = CountVectorizer(min_df = 10, max_features = 500) # fit_transform is used for train\n",
    "final_Xtr = count_vect.fit_transform(X_tr).toarray()\n",
    "final_Xcv = count_vect.transform(X_cv).toarray()\n",
    "final_Xtest = count_vect.transform(X_test).toarray()\n",
    "\n",
    "# KNN\n",
    "auc_cv = []\n",
    "auc_train = []\n",
    "K = list(range(1,50,4))\n",
    "for i in tqdm(K):\n",
    "    knn = KNeighborsClassifier(n_neighbors = i,weights = \"uniform\", algorithm = \"kd_tree\")\n",
    "    knn.fit(final_Xtr,y_tr)\n",
    "    \n",
    "    pred_Xtr = knn.predict_proba(final_Xtr)[:,1]\n",
    "    auc_train.append(roc_auc_score(y_tr,pred_Xtr))\n",
    "    \n",
    "    pred_Xcv = knn.predict_proba(final_Xcv)[:,1]\n",
    "    auc_cv.append(roc_auc_score(y_cv,pred_Xcv))\n",
    "    \n",
    "# Graph between AUC and K\n",
    "\n",
    "fig = plt.figure()\n",
    "ax = plt.subplot(111)\n",
    "ax.plot(K,auc_train, label = \"AUC train\")\n",
    "ax.plot(K,auc_cv, label = \"AUC CV\")\n",
    "\n",
    "plt.title('AUC vs K')\n",
    "plt.xlabel('K')\n",
    "plt.ylabel('AUC')\n",
    "\n",
    "ax.legend()\n",
    "plt.show()\n",
    "    \n"
   ]
  },
  {
   "cell_type": "code",
   "execution_count": 38,
   "metadata": {},
   "outputs": [
    {
     "data": {
      "image/png": "[encoded data removed]",
      "text/plain": [
       "<Figure size 432x288 with 1 Axes>"
      ]
     },
     "metadata": {
      "needs_background": "light"
     },
     "output_type": "display_data"
    }
   ],
   "source": [
    "# ROC curve for K = 30 seen best hyperparameter\n",
    "knn = KNeighborsClassifier(n_neighbors = 30, weights = 'uniform', algorithm = 'kd_tree')\n",
    "knn.fit(final_Xtr, y_tr)\n",
    "\n",
    "pred_tr = knn.predict_proba(final_Xtr)[:,1]\n",
    "fpr_tr, tpr_tr, thresholds_tr = metrics.roc_curve(y_tr, pred_tr)\n",
    "\n",
    "pred_test = knn.predict_proba(final_Xtest)[:,1]\n",
    "fpr_test, tpr_test, thresholds_test = metrics.roc_curve(y_test, pred_test)\n",
    "\n",
    "# Graph between TPR AND FPR\n",
    "fig = plt.figure()\n",
    "ax = plt.subplot(111)\n",
    "\n",
    "ax.plot(fpr_tr, tpr_tr,label = 'Train ROC, auc = '+str(roc_auc_score(y_tr, pred_tr)))\n",
    "ax.plot(fpr_test, tpr_test,label = 'Test ROC, auc = '+str(roc_auc_score(y_test, pred_test)))\n",
    "\n",
    "plt.title(\"ROC\")\n",
    "plt.xlabel(\"FPR\")\n",
    "plt.ylabel(\"TPR\")\n",
    "\n",
    "ax.legend()\n",
    "plt.show()"
   ]
  },
  {
   "cell_type": "code",
   "execution_count": 39,
   "metadata": {},
   "outputs": [
    {
     "data": {
      "image/png": "[encoded data removed]",
      "text/plain": [
       "<Figure size 432x288 with 2 Axes>"
      ]
     },
     "metadata": {
      "needs_background": "light"
     },
     "output_type": "display_data"
    }
   ],
   "source": [
    "# Confusion Matrix\n",
    "knn = KNeighborsClassifier(n_neighbors = 30, weights = 'uniform', algorithm = 'kd_tree')\n",
    "knn.fit(final_Xtr, y_tr)\n",
    "\n",
    "predict_test = knn.predict(final_Xtest)\n",
    "\n",
    "conf_mat = confusion_matrix(y_test, predict_test)\n",
    "class_label = [\"Negative\", \"Positive\"]\n",
    "df = pd.DataFrame(conf_mat, index = class_label, columns = class_label)\n",
    "\n",
    "sns.heatmap(df, annot = True, fmt = \"d\")\n",
    "\n",
    "plt.title(\"Confusion Matrix\")\n",
    "plt.xlabel(\"Predicted Label\")\n",
    "plt.ylabel(\"True label\")\n",
    "plt.show()"
   ]
  },
  {
   "cell_type": "markdown",
   "metadata": {},
   "source": [
    "### [5.2.2] Applying KNN kd-tree on TFIDF"
   ]
  },
  {
   "cell_type": "code",
   "execution_count": 55,
   "metadata": {},
   "outputs": [
    {
     "name": "stderr",
     "output_type": "stream",
     "text": [
      "100%|██████████| 13/13 [07:21<00:00, 33.95s/it]\n"
     ]
    },
    {
     "data": {
      "image/png": "[encoded data removed]",
      "text/plain": [
       "<Figure size 432x288 with 1 Axes>"
      ]
     },
     "metadata": {
      "needs_background": "light"
     },
     "output_type": "display_data"
    }
   ],
   "source": [
    "# Preparing the dat\n",
    "X = preprocessed_reviews[:10000]\n",
    "y = np.array(final['Score'])[:10000]\n",
    "\n",
    "# Spliting data into train, CV and test \n",
    "X_1, X_test, y_1, y_test = train_test_split(X,y, test_size = 0.3, random_state = 0)\n",
    "X_tr, X_cv, y_tr,y_cv = train_test_split(X_1,y_1, test_size = 0.3)\n",
    "\n",
    "# TFIDF\n",
    "tf_idf_vect = TfidfVectorizer(ngram_range = (1,2), min_df  = 10, max_features = 500)\n",
    "final_Xtr = tf_idf_vect.fit_transform(X_tr).toarray()\n",
    "final_Xcv = tf_idf_vect.transform(X_cv).toarray()\n",
    "final_Xtest = tf_idf_vect.transform(X_test).toarray()\n",
    "\n",
    "# KNN\n",
    "auc_train = []\n",
    "auc_cv = []\n",
    "K = list(range(1,50,4))\n",
    "\n",
    "for i in tqdm(K):\n",
    "    knn = KNeighborsClassifier(n_neighbors = i, weights = 'uniform', algorithm = 'kd_tree')\n",
    "    knn.fit(final_Xtr,y_tr)\n",
    "    \n",
    "    pred_tr = knn.predict_proba(final_Xtr)[:,1]\n",
    "    auc_train.append(roc_auc_score(y_tr,pred_tr))\n",
    "    \n",
    "    pred_cv = knn.predict_proba(final_Xcv)[:,1]\n",
    "    auc_cv.append(roc_auc_score(y_cv,pred_cv))\n",
    "    \n",
    "\n",
    "# Graph between AUC v/s K\n",
    "fig = plt.figure()\n",
    "ax = plt.subplot(111)\n",
    "\n",
    "ax.plot(K,auc_train, label = \"AUC train\")\n",
    "ax.plot(K,auc_cv, label = \"AUC CV\")\n",
    "\n",
    "plt.title('AUC vs K')\n",
    "plt.xlabel('K')\n",
    "plt.ylabel('AUC')\n",
    "\n",
    "ax.legend()\n",
    "plt.show()\n"
   ]
  },
  {
   "cell_type": "code",
   "execution_count": 41,
   "metadata": {},
   "outputs": [
    {
     "data": {
      "image/png": "[encoded data removed]",
      "text/plain": [
       "<Figure size 432x288 with 1 Axes>"
      ]
     },
     "metadata": {
      "needs_background": "light"
     },
     "output_type": "display_data"
    }
   ],
   "source": [
    "# ROC curve for K = 37 seen best hyperparameter\n",
    "knn = KNeighborsClassifier(n_neighbors = 37, weights = 'uniform', algorithm = 'kd_tree')\n",
    "knn.fit(final_Xtr, y_tr)\n",
    "\n",
    "pred_tr = knn.predict_proba(final_Xtr)[:,1]\n",
    "fpr_tr, tpr_tr, thresholds_tr = metrics.roc_curve(y_tr, pred_tr)\n",
    "\n",
    "pred_test = knn.predict_proba(final_Xtest)[:,1]\n",
    "fpr_test, tpr_test, thresholds_test = metrics.roc_curve(y_test, pred_test)\n",
    "\n",
    "# Graph between TPR AND FPR\n",
    "fig = plt.figure()\n",
    "ax = plt.subplot(111)\n",
    "\n",
    "ax.plot(fpr_tr, tpr_tr,label = 'Train ROC, auc = '+str(roc_auc_score(y_tr, pred_tr)))\n",
    "ax.plot(fpr_test, tpr_test,label = 'Test ROC, auc = '+str(roc_auc_score(y_test, pred_test)))\n",
    "\n",
    "plt.title(\"ROC\")\n",
    "plt.xlabel(\"FPR\")\n",
    "plt.ylabel(\"TPR\")\n",
    "\n",
    "ax.legend()\n",
    "plt.show()"
   ]
  },
  {
   "cell_type": "code",
   "execution_count": 42,
   "metadata": {},
   "outputs": [
    {
     "data": {
      "image/png": "[encoded data removed]",
      "text/plain": [
       "<Figure size 432x288 with 2 Axes>"
      ]
     },
     "metadata": {
      "needs_background": "light"
     },
     "output_type": "display_data"
    }
   ],
   "source": [
    "# Confusion Matrix\n",
    "knn = KNeighborsClassifier(n_neighbors = 37, weights = 'uniform', algorithm = 'kd_tree')\n",
    "knn.fit(final_Xtr, y_tr)\n",
    "\n",
    "predict_test = knn.predict(final_Xtest)\n",
    "\n",
    "conf_mat = confusion_matrix(y_test, predict_test)\n",
    "class_label = [\"Negative\", \"Positive\"]\n",
    "df = pd.DataFrame(conf_mat, index = class_label, columns = class_label)\n",
    "\n",
    "sns.heatmap(df, annot = True, fmt = \"d\")\n",
    "\n",
    "plt.title(\"Confusion Matrix\")\n",
    "plt.xlabel(\"Predicted Label\")\n",
    "plt.ylabel(\"True label\")\n",
    "plt.show()"
   ]
  },
  {
   "cell_type": "markdown",
   "metadata": {},
   "source": [
    "### [5.2.3] Applying KNN kd-tree on AVG W2V"
   ]
  },
  {
   "cell_type": "code",
   "execution_count": 44,
   "metadata": {},
   "outputs": [
    {
     "name": "stderr",
     "output_type": "stream",
     "text": [
      "100%|██████████| 14700/14700 [00:22<00:00, 663.56it/s]\n",
      "  2%|▏         | 122/6300 [00:00<00:10, 594.41it/s]"
     ]
    },
    {
     "name": "stdout",
     "output_type": "stream",
     "text": [
      "14700\n",
      "50\n"
     ]
    },
    {
     "name": "stderr",
     "output_type": "stream",
     "text": [
      "100%|██████████| 6300/6300 [00:09<00:00, 666.04it/s]\n",
      "  1%|          | 68/9000 [00:00<00:13, 677.58it/s]"
     ]
    },
    {
     "name": "stdout",
     "output_type": "stream",
     "text": [
      "6300\n",
      "50\n"
     ]
    },
    {
     "name": "stderr",
     "output_type": "stream",
     "text": [
      "100%|██████████| 9000/9000 [00:13<00:00, 678.15it/s]"
     ]
    },
    {
     "name": "stdout",
     "output_type": "stream",
     "text": [
      "9000\n",
      "50\n"
     ]
    },
    {
     "name": "stderr",
     "output_type": "stream",
     "text": [
      "\n"
     ]
    }
   ],
   "source": [
    "# Preparing the data\n",
    "X = preprocessed_reviews[:30000]\n",
    "y = np.array(final['Score'])[:30000]\n",
    "\n",
    "# Spliting the data into Train, CV and Test\n",
    "X_1, X_test, y_1, y_test = train_test_split(X,y, test_size = 0.3, random_state = 0)\n",
    "X_tr, X_cv, y_tr, y_cv = train_test_split(X_1, y_1, test_size = 0.3)\n",
    "\n",
    "# Word2Vec\n",
    "\n",
    "list_of_sentance_tr = []\n",
    "\n",
    "for sentance in X_tr:\n",
    "    list_of_sentance_tr.append(sentance.split())\n",
    "w2v_model = Word2Vec(list_of_sentance_tr, min_count = 5, size = 50, workers = 4)\n",
    "w2v_words = list(w2v_model.wv.vocab)\n",
    "\n",
    "\n",
    "def word2Vec(X):\n",
    "    list_of_sentance = []\n",
    "    \n",
    "    for sentance in X:\n",
    "        list_of_sentance.append(sentance.split())\n",
    "    \n",
    "    sent_vectors = []\n",
    "    \n",
    "    for sent in tqdm(list_of_sentance):\n",
    "        sent_vec = np.zeros(50)\n",
    "        cnt_words = 0\n",
    "        \n",
    "        for word in sent:\n",
    "            if word in w2v_words:\n",
    "                vec = w2v_model.wv[word]\n",
    "                sent_vec += vec\n",
    "                cnt_words += 1\n",
    "        \n",
    "        if cnt_words != 0:\n",
    "            sent_vec /= cnt_words\n",
    "        \n",
    "        sent_vectors.append(sent_vec)\n",
    "    \n",
    "    print(len(sent_vectors))\n",
    "    print(len(sent_vectors[0]))\n",
    "    \n",
    "    return sent_vectors\n",
    "\n",
    "final_Xtr = word2Vec(X_tr)    \n",
    "final_Xcv = word2Vec(X_cv)    \n",
    "final_Xtest = word2Vec(X_test)    "
   ]
  },
  {
   "cell_type": "code",
   "execution_count": 59,
   "metadata": {},
   "outputs": [
    {
     "name": "stderr",
     "output_type": "stream",
     "text": [
      "100%|██████████| 13/13 [06:26<00:00, 29.75s/it]\n"
     ]
    },
    {
     "data": {
      "image/png": "[encoded data removed]",
      "text/plain": [
       "<Figure size 432x288 with 1 Axes>"
      ]
     },
     "metadata": {
      "needs_background": "light"
     },
     "output_type": "display_data"
    }
   ],
   "source": [
    "# KNN\n",
    "auc_train = []\n",
    "auc_cv = []\n",
    "K = list(range(1,50,4))\n",
    "\n",
    "for i in tqdm(K):\n",
    "    knn = KNeighborsClassifier(n_neighbors = i, weights = 'uniform', algorithm = 'kd_tree')\n",
    "    knn.fit(final_Xtr,y_tr)\n",
    "    \n",
    "    pred_tr = knn.predict_proba(final_Xtr)[:,1]\n",
    "    auc_train.append(roc_auc_score(y_tr,pred_tr))\n",
    "    \n",
    "    pred_cv = knn.predict_proba(final_Xcv)[:,1]\n",
    "    auc_cv.append(roc_auc_score(y_cv,pred_cv))\n",
    "    \n",
    "\n",
    "# Graph between AUC v/s K\n",
    "fig = plt.figure()\n",
    "ax = plt.subplot(111)\n",
    "\n",
    "ax.plot(K,auc_train, label = \"AUC train\")\n",
    "ax.plot(K,auc_cv, label = \"AUC CV\")\n",
    "\n",
    "plt.title('AUC vs K')\n",
    "plt.xlabel('K')\n",
    "plt.ylabel('AUC')\n",
    "\n",
    "ax.legend()\n",
    "plt.show()\n",
    "    "
   ]
  },
  {
   "cell_type": "code",
   "execution_count": 45,
   "metadata": {},
   "outputs": [
    {
     "data": {
      "image/png": "[encoded data removed]",
      "text/plain": [
       "<Figure size 432x288 with 1 Axes>"
      ]
     },
     "metadata": {
      "needs_background": "light"
     },
     "output_type": "display_data"
    }
   ],
   "source": [
    "# ROC curve for K = 33 seen best hyperparameter\n",
    "knn = KNeighborsClassifier(n_neighbors = 33, weights = 'uniform', algorithm = 'kd_tree')\n",
    "knn.fit(final_Xtr, y_tr)\n",
    "\n",
    "pred_tr = knn.predict_proba(final_Xtr)[:,1]\n",
    "fpr_tr, tpr_tr, thresholds_tr = metrics.roc_curve(y_tr, pred_tr)\n",
    "\n",
    "pred_test = knn.predict_proba(final_Xtest)[:,1]\n",
    "fpr_test, tpr_test, thresholds_test = metrics.roc_curve(y_test, pred_test)\n",
    "\n",
    "# Graph between TPR AND FPR\n",
    "fig = plt.figure()\n",
    "ax = plt.subplot(111)\n",
    "\n",
    "ax.plot(fpr_tr, tpr_tr,label = 'Train ROC, auc = '+str(roc_auc_score(y_tr, pred_tr)))\n",
    "ax.plot(fpr_test, tpr_test,label = 'Test ROC, auc = '+str(roc_auc_score(y_test, pred_test)))\n",
    "\n",
    "plt.title(\"ROC\")\n",
    "plt.xlabel(\"FPR\")\n",
    "plt.ylabel(\"TPR\")\n",
    "\n",
    "ax.legend()\n",
    "plt.show()"
   ]
  },
  {
   "cell_type": "code",
   "execution_count": 46,
   "metadata": {},
   "outputs": [
    {
     "data": {
      "image/png": "[encoded data removed]",
      "text/plain": [
       "<Figure size 432x288 with 2 Axes>"
      ]
     },
     "metadata": {
      "needs_background": "light"
     },
     "output_type": "display_data"
    }
   ],
   "source": [
    "# Confusion Matrix\n",
    "knn = KNeighborsClassifier(n_neighbors = 33, weights = 'uniform', algorithm = 'kd_tree')\n",
    "knn.fit(final_Xtr, y_tr)\n",
    "\n",
    "predict_test = knn.predict(final_Xtest)\n",
    "\n",
    "conf_mat = confusion_matrix(y_test, predict_test)\n",
    "class_label = [\"Negative\", \"Positive\"]\n",
    "df = pd.DataFrame(conf_mat, index = class_label, columns = class_label)\n",
    "\n",
    "sns.heatmap(df, annot = True, fmt = \"d\")\n",
    "\n",
    "plt.title(\"Confusion Matrix\")\n",
    "plt.xlabel(\"Predicted Label\")\n",
    "plt.ylabel(\"True label\")\n",
    "plt.show()"
   ]
  },
  {
   "cell_type": "markdown",
   "metadata": {},
   "source": [
    "### [5.2.4] Applying KNN kd-tree on TFIDF W2V"
   ]
  },
  {
   "cell_type": "code",
   "execution_count": 47,
   "metadata": {},
   "outputs": [
    {
     "name": "stderr",
     "output_type": "stream",
     "text": [
      "100%|██████████| 14700/14700 [00:28<00:00, 513.24it/s]\n",
      "  2%|▏         | 117/6300 [00:00<00:11, 532.35it/s]"
     ]
    },
    {
     "name": "stdout",
     "output_type": "stream",
     "text": [
      "14700\n",
      "50\n"
     ]
    },
    {
     "name": "stderr",
     "output_type": "stream",
     "text": [
      "100%|██████████| 6300/6300 [00:11<00:00, 542.29it/s]\n",
      "  1%|          | 91/9000 [00:00<00:19, 447.17it/s]"
     ]
    },
    {
     "name": "stdout",
     "output_type": "stream",
     "text": [
      "6300\n",
      "50\n"
     ]
    },
    {
     "name": "stderr",
     "output_type": "stream",
     "text": [
      "100%|██████████| 9000/9000 [00:17<00:00, 521.72it/s]"
     ]
    },
    {
     "name": "stdout",
     "output_type": "stream",
     "text": [
      "9000\n",
      "50\n"
     ]
    },
    {
     "name": "stderr",
     "output_type": "stream",
     "text": [
      "\n"
     ]
    }
   ],
   "source": [
    "# Preparing the data\n",
    "X = preprocessed_reviews[:30000]\n",
    "y = np.array(final['Score'])[:30000]\n",
    "\n",
    "# Spliting the data\n",
    "X_1, X_test, y_1, y_test = train_test_split(X,y, test_size = 0.3, random_state = 0)\n",
    "X_tr, X_cv, y_tr,y_cv = train_test_split(X_1,y_1, test_size = 0.3)\n",
    "\n",
    "\n",
    "list_of_sentance_train = []\n",
    "for sentance in X_tr:\n",
    "    list_of_sentance_train.append(sentance.split())\n",
    "\n",
    "w2v_model  = Word2Vec(list_of_sentance_train, min_count = 5, size = 50, workers = 4)\n",
    "w2v_words = list(w2v_model.wv.vocab)\n",
    "\n",
    "tf_idf_vect = TfidfVectorizer(ngram_range = (1,2), min_df = 10, max_features = 500)\n",
    "tf_idf_matrix = tf_idf_vect.fit_transform(X_tr)\n",
    "\n",
    "tfidf_feat = tf_idf_vect.get_feature_names()\n",
    "dictionary = dict(zip(tf_idf_vect.get_feature_names(), list(tf_idf_vect.idf_)))\n",
    "\n",
    "# TFIDF W2V Function\n",
    "def tfidf_W2V(X):\n",
    "    list_of_sentance = []\n",
    "    \n",
    "    for sentance in X:\n",
    "        list_of_sentance.append(sentance.split())\n",
    "    \n",
    "    tfidf_sent_vectors = []\n",
    "    row = 0\n",
    "    \n",
    "    for sent in tqdm(list_of_sentance):\n",
    "        sent_vec = np.zeros(50)\n",
    "        weight_sum = 0\n",
    "        \n",
    "        for word in sent:\n",
    "            if word in w2v_words and word in tfidf_feat:\n",
    "                vec = w2v_model.wv[word]\n",
    "                tf_idf = dictionary[word]*(sent.count(word)/len(sent))\n",
    "                sent_vec += (vec * tf_idf)\n",
    "                weight_sum  += tf_idf\n",
    "        \n",
    "        if weight_sum != 0:\n",
    "            sent_vec /= weight_sum\n",
    "        \n",
    "        tfidf_sent_vectors.append(sent_vec)\n",
    "        row +=1\n",
    "    print(len(tfidf_sent_vectors))\n",
    "    print(len(tfidf_sent_vectors[0]))\n",
    "    \n",
    "    return tfidf_sent_vectors\n",
    "\n",
    "final_Xtr = tfidf_W2V(X_tr)\n",
    "final_Xcv = tfidf_W2V(X_cv)\n",
    "final_Xtest = tfidf_W2V(X_test)"
   ]
  },
  {
   "cell_type": "code",
   "execution_count": 63,
   "metadata": {},
   "outputs": [
    {
     "name": "stderr",
     "output_type": "stream",
     "text": [
      "100%|██████████| 13/13 [05:31<00:00, 25.53s/it]\n"
     ]
    },
    {
     "data": {
      "image/png": "[encoded data removed]",
      "text/plain": [
       "<Figure size 432x288 with 1 Axes>"
      ]
     },
     "metadata": {
      "needs_background": "light"
     },
     "output_type": "display_data"
    }
   ],
   "source": [
    "# KNN\n",
    "auc_train = []\n",
    "auc_cv = []\n",
    "K = list(range(1,50,4))\n",
    "\n",
    "for i in tqdm(K):\n",
    "    knn = KNeighborsClassifier(n_neighbors = i, weights = 'uniform', algorithm = 'kd_tree')\n",
    "    knn.fit(final_Xtr,y_tr)\n",
    "    \n",
    "    pred_tr = knn.predict_proba(final_Xtr)[:,1]\n",
    "    auc_train.append(roc_auc_score(y_tr,pred_tr))\n",
    "    \n",
    "    pred_cv = knn.predict_proba(final_Xcv)[:,1]\n",
    "    auc_cv.append(roc_auc_score(y_cv,pred_cv))\n",
    "    \n",
    "\n",
    "# Graph between AUC v/s K\n",
    "fig = plt.figure()\n",
    "ax = plt.subplot(111)\n",
    "\n",
    "ax.plot(K,auc_train, label = \"AUC train\")\n",
    "ax.plot(K,auc_cv, label = \"AUC CV\")\n",
    "\n",
    "plt.title('AUC vs K')\n",
    "plt.xlabel('K')\n",
    "plt.ylabel('AUC')\n",
    "\n",
    "ax.legend()\n",
    "plt.show()\n",
    "    "
   ]
  },
  {
   "cell_type": "code",
   "execution_count": 48,
   "metadata": {},
   "outputs": [
    {
     "data": {
      "image/png": "[encoded data removed]",
      "text/plain": [
       "<Figure size 432x288 with 1 Axes>"
      ]
     },
     "metadata": {
      "needs_background": "light"
     },
     "output_type": "display_data"
    }
   ],
   "source": [
    "# ROC curve for K = 40 seen best hyperparameter\n",
    "knn = KNeighborsClassifier(n_neighbors = 40, weights = 'uniform', algorithm = 'kd_tree')\n",
    "knn.fit(final_Xtr, y_tr)\n",
    "\n",
    "pred_tr = knn.predict_proba(final_Xtr)[:,1]\n",
    "fpr_tr, tpr_tr, thresholds_tr = metrics.roc_curve(y_tr, pred_tr)\n",
    "\n",
    "pred_test = knn.predict_proba(final_Xtest)[:,1]\n",
    "fpr_test, tpr_test, thresholds_test = metrics.roc_curve(y_test, pred_test)\n",
    "\n",
    "# Graph between TPR AND FPR\n",
    "fig = plt.figure()\n",
    "ax = plt.subplot(111)\n",
    "\n",
    "ax.plot(fpr_tr, tpr_tr,label = 'Train ROC, auc = '+str(roc_auc_score(y_tr, pred_tr)))\n",
    "ax.plot(fpr_test, tpr_test,label = 'Test ROC, auc = '+str(roc_auc_score(y_test, pred_test)))\n",
    "\n",
    "plt.title(\"ROC\")\n",
    "plt.xlabel(\"FPR\")\n",
    "plt.ylabel(\"TPR\")\n",
    "\n",
    "ax.legend()\n",
    "plt.show()"
   ]
  },
  {
   "cell_type": "code",
   "execution_count": 49,
   "metadata": {},
   "outputs": [
    {
     "data": {
      "image/png": "[encoded data removed]",
      "text/plain": [
       "<Figure size 432x288 with 2 Axes>"
      ]
     },
     "metadata": {
      "needs_background": "light"
     },
     "output_type": "display_data"
    }
   ],
   "source": [
    "# Confusion Matrix\n",
    "knn = KNeighborsClassifier(n_neighbors = 40, weights = 'uniform', algorithm = 'kd_tree')\n",
    "knn.fit(final_Xtr, y_tr)\n",
    "\n",
    "predict_test = knn.predict(final_Xtest)\n",
    "\n",
    "conf_mat = confusion_matrix(y_test, predict_test)\n",
    "class_label = [\"Negative\", \"Positive\"]\n",
    "df = pd.DataFrame(conf_mat, index = class_label, columns = class_label)\n",
    "\n",
    "sns.heatmap(df, annot = True, fmt = \"d\")\n",
    "\n",
    "plt.title(\"Confusion Matrix\")\n",
    "plt.xlabel(\"Predicted Label\")\n",
    "plt.ylabel(\"True label\")\n",
    "plt.show()"
   ]
  },
  {
   "cell_type": "markdown",
   "metadata": {},
   "source": [
    "# [6] Conclusions"
   ]
  },
  {
   "cell_type": "code",
   "execution_count": 54,
   "metadata": {},
   "outputs": [
    {
     "name": "stdout",
     "output_type": "stream",
     "text": [
      "+------------+----------+-------------+-------+\n",
      "| Vectorizer |  Model   | Hyperameter |  AUC  |\n",
      "+------------+----------+-------------+-------+\n",
      "|    BOW     |  Brute   |      30     | 0.834 |\n",
      "|   TFIDF    |  Brute   |      49     | 0.869 |\n",
      "|   AwgW2V   |  Brute   |      30     | 0.885 |\n",
      "| TFIDF W2V  |  Brute   |      30     | 0.816 |\n",
      "|    BOW     | k_d tree |      30     | 0.736 |\n",
      "|   TFIDF    | k_d tree |      37     | 0.786 |\n",
      "|   AwgW2V   | k_d tree |      33     | 0.824 |\n",
      "| TFIDF W2V  | k_d tree |      40     | 0.768 |\n",
      "+------------+----------+-------------+-------+\n"
     ]
    }
   ],
   "source": [
    "from prettytable import PrettyTable    \n",
    "x = PrettyTable()\n",
    "x.field_names = [\"Vectirizer\",\"Model\", \"Hyper parameter(K)\",\"AUC\" ]\n",
    "x.field_names = [\"Vectorizer\", \"Model\", \"Hyperameter\", \"AUC\"]\n",
    "x.add_row([\"BOW\",\"Brute\",30,0.834])\n",
    "x.add_row([\"TFIDF\",\"Brute\",49,0.869])\n",
    "x.add_row([\"AwgW2V\",\"Brute\",30,0.885])\n",
    "x.add_row([\"TFIDF W2V\",\"Brute\",30,0.816])\n",
    "x.add_row([\"BOW\",\"k_d tree\",30,0.736])\n",
    "x.add_row([\"TFIDF\",\"k_d tree\",37,0.786])\n",
    "x.add_row([\"AwgW2V\",\"k_d tree\",33,0.824])\n",
    "x.add_row([\"TFIDF W2V\",\"k_d tree\",40,0.768])\n",
    "print(x)"
   ]
  },
  {
   "cell_type": "code",
   "execution_count": null,
   "metadata": {},
   "outputs": [],
   "source": []
  }
 ],
 "metadata": {
  "kernelspec": {
   "display_name": "Python 3",
   "language": "python",
   "name": "python3"
  },
  "language_info": {
   "codemirror_mode": {
    "name": "ipython",
    "version": 3
   },
   "file_extension": ".py",
   "mimetype": "text/x-python",
   "name": "python",
   "nbconvert_exporter": "python",
   "pygments_lexer": "ipython3",
   "version": "3.7.3"
  }
 },
 "nbformat": 4,
 "nbformat_minor": 4
}
